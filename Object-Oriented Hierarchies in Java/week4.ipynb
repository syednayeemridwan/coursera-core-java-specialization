{
 "cells": [
  {
   "cell_type": "markdown",
   "metadata": {},
   "source": [
    "# Interface vs Abstract class"
   ]
  },
  {
   "cell_type": "markdown",
   "metadata": {},
   "source": [
    "### Abstract class"
   ]
  },
  {
   "cell_type": "markdown",
   "metadata": {},
   "source": [
    "- can have abstract and non-abstract methods.\n",
    "- doesn't support multiple inheritance.\n",
    "- can provide the implementation of interface.\n",
    "- abstract class can extend another Java class and implement multiple Java interfaces.\n",
    "- can have class members like private, protected, etc.\n",
    "- Abstract class can also inherit another abstract class \n",
    "- A class can only extend one abstract method\n"
   ]
  },
  {
   "cell_type": "markdown",
   "metadata": {},
   "source": [
    "### Interface"
   ]
  },
  {
   "cell_type": "markdown",
   "metadata": {},
   "source": [
    "- Methods declared inside are implicitly public abstract.\n",
    "- can have only `abstract` or `default` methods\n",
    "- has only `static` and `final` variable\n",
    "- can't provide the implementation of abstract class.\n",
    "- Interface can have only `abstract` classes\n",
    "- Interface can only inherit other one or more interfaces\n",
    "- Interface can not inherit other classes\n"
   ]
  },
  {
   "cell_type": "markdown",
   "metadata": {},
   "source": [
    "# Default method and Interface extending"
   ]
  },
  {
   "cell_type": "markdown",
   "metadata": {},
   "source": [
    "- typically inside an `interface`\n",
    "- has the keyword `default`\n",
    "- Should not involve instance data (since this method resides in an interface)\n",
    "- The class that implements the interface can over-write the default method\n",
    "- If the default method is not over-written, it can still be used as a normal method as a part of the class"
   ]
  },
  {
   "cell_type": "markdown",
   "metadata": {},
   "source": [
    "```\n",
    "public interface SomeInterface{\n",
    "\tdefault void test(){\n",
    "    \t//this will be done when the method is called by default\n",
    "    }\n",
    "\tpublic void newTest();\n",
    "}\n",
    "public interface OtherInterface extends SomeInterface{\n",
    "\t// test() is available\n",
    "    // newTest() is available\n",
    "\tpublic void otherTest();\n",
    "}\n",
    "public class SomeInterfaceImpl implements SomeInterface{\n",
    "\t//has test method from SomeInterface, can be overwritten\n",
    "\t@Override\n",
    "\tpublic void newTest() {\n",
    "\t\t// must override the non-default method\n",
    "\t}\n",
    "}\n",
    "public class SomeClass{\n",
    "\tpublic void test(){\n",
    "    \t//do something else\n",
    "    }\n",
    "}\n",
    "public class SomeOtherClass extends SomeClass implements OtherInterface{\n",
    "\t//uses the test method from SomeClass instead of SomeInterface\n",
    "\t@Override\n",
    "\tpublic void newTest() {\n",
    "\t\t// must override the non-default method inherited in OtherInterface\n",
    "\t}\n",
    "\tpublic void otherTest() {\n",
    "\t\t// must override the non-default new method in OtherInterface\n",
    "\t}\n",
    "}\n",
    "\n",
    "```"
   ]
  },
  {
   "cell_type": "markdown",
   "metadata": {},
   "source": [
    "# Static Method"
   ]
  },
  {
   "cell_type": "markdown",
   "metadata": {},
   "source": [
    "- `static` keyword present\n",
    "- only static can call other statics\n",
    "- Requires class-based access, cannot be accessed via objects or instances\n",
    "- Allows to share common behaviours of the same class among different objects of the same class"
   ]
  },
  {
   "cell_type": "markdown",
   "metadata": {},
   "source": [
    "```\n",
    "public class ATM{\n",
    "  // Static variables\n",
    "  public static int totalMoney = 0;\n",
    "  public static int numATMs = 0;\n",
    "\n",
    "  // A static method\n",
    "  public static void averageMoney(){\n",
    "    System.out.println(totalMoney / numATMs);\n",
    "  }\n",
    "\n",
    "  public static void main(String[] args){\n",
    "\n",
    "    //Accessing a static variable\n",
    "    System.out.println(\"Total number of ATMs: \" + ATM.numATMs); \n",
    "\n",
    "    // Calling a static method\n",
    "    ATM.averageMoney();\n",
    "  }\n",
    "\n",
    "}\n",
    "```"
   ]
  },
  {
   "cell_type": "markdown",
   "metadata": {},
   "source": [
    "# Lambda expression"
   ]
  },
  {
   "cell_type": "markdown",
   "metadata": {},
   "source": [
    "- Concept of lambda is based on functional interface\n",
    "- lambda can replace the implementation of interfaces that only has one method to override"
   ]
  },
  {
   "cell_type": "markdown",
   "metadata": {},
   "source": [
    "```\n",
    "interface MyFunctionalInterface {\n",
    "    void myMethod(String s);\n",
    "}\n",
    "public class LambdaExample {\n",
    "    // Assume this method exists in the class\n",
    "    static void someMethod(String s) {\n",
    "        System.out.println(\"Custom Method: \" + s);\n",
    "    }\n",
    "\n",
    "    public static void main(String[] args) {\n",
    "        // Traditional way using an anonymous class\n",
    "        MyFunctionalInterface anonymousClass = new MyFunctionalInterface() {\n",
    "            @Override\n",
    "            public void myMethod(String s) {\n",
    "                System.out.println(\"Hello, \" + s);\n",
    "            }\n",
    "        };\n",
    "        anonymousClass.myMethod(\"World\");\n",
    "\n",
    "        // Using a lambda expression\n",
    "        MyFunctionalInterface lambdaExpression = (s) -> someMethod(s);\n",
    "        lambdaExpression.myMethod(\"Lambda World\");\n",
    "\n",
    "        // Using a method reference\n",
    "        MyFunctionalInterface methodReference = LambdaExample::someMethod;\n",
    "        methodReference.myMethod(\"Method Reference World\");\n",
    "    }\n",
    "\n",
    "}\n",
    "/* ----------------- OUTPUT ----------------\n",
    "Hello, World\n",
    "Custom Method: Lambda World\n",
    "Custom Method: Method Reference World\n",
    "*/\n",
    "\n",
    "```"
   ]
  },
  {
   "cell_type": "markdown",
   "metadata": {},
   "source": []
  }
 ],
 "metadata": {
  "language_info": {
   "name": "python"
  }
 },
 "nbformat": 4,
 "nbformat_minor": 2
}
