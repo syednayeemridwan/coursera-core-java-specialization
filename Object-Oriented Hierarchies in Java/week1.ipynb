{
 "cells": [
  {
   "cell_type": "markdown",
   "metadata": {},
   "source": [
    "# Moving a class to a different package"
   ]
  },
  {
   "cell_type": "markdown",
   "metadata": {},
   "source": [
    "<center><img src=\"images/01.03.png\"  style=\"width: 400px, height: 300px;\"/></center>\n",
    "<center><img src=\"images/01.04.png\"  style=\"width: 400px, height: 300px;\"/></center>\n",
    "<center><img src=\"images/01.05.png\"  style=\"width: 400px, height: 300px;\"/></center>\n",
    "<center><img src=\"images/01.06.png\"  style=\"width: 400px, height: 300px;\"/></center>"
   ]
  },
  {
   "cell_type": "markdown",
   "metadata": {},
   "source": [
    "# Relationships in classes"
   ]
  },
  {
   "cell_type": "markdown",
   "metadata": {},
   "source": [
    "- \"is-a\" relationship \n",
    "    - Inheritance hierarchy\n",
    "    - Super class and sub class\n",
    "- \"has-a\" relationship\n",
    "    - Implemented using instance data\n"
   ]
  },
  {
   "cell_type": "markdown",
   "metadata": {},
   "source": [
    "<center><img src=\"images/01.24.png\"  style=\"width: 400px, height: 300px;\"/></center>\n"
   ]
  },
  {
   "cell_type": "markdown",
   "metadata": {},
   "source": [
    "# Inheritance"
   ]
  },
  {
   "cell_type": "markdown",
   "metadata": {},
   "source": [
    "- In java only single inheritance is possible between classes \n",
    "- Child class automatically inherit all public method and attributes of parent class\n",
    "- Child class may have additional methods and attributes\n",
    "- This relationship groups classes according to similarities\n",
    "- A child class object may be stored in a parent class type variable\n",
    "    - In this case, only the members of the parents that the child class inherits are accessible\n",
    "    - However, the child class members will not be accessible, and needs external casting for that.\n",
    "    - Child class reference type is needed to access the child class members.\n",
    "    - eg: `Parent someVar = new Child(); `"
   ]
  },
  {
   "cell_type": "markdown",
   "metadata": {},
   "source": [
    "# Abstract class"
   ]
  },
  {
   "cell_type": "markdown",
   "metadata": {},
   "source": [
    "- You cannot create an object from this class\n",
    "- This relationship defines the behaviors that are not found in \"inheritance\"\n",
    "- Allows more specificity of each class with loose coupling\n",
    "- Specifies abstract implementation that can be implemented in the base class itself"
   ]
  },
  {
   "cell_type": "markdown",
   "metadata": {},
   "source": [
    "### Creating a subclass "
   ]
  },
  {
   "cell_type": "markdown",
   "metadata": {},
   "source": [
    "<center><img src=\"images/01.07.png\"  style=\"width: 400px, height: 300px;\"/></center>\n",
    "<center><img src=\"images/01.08.png\"  style=\"width: 400px, height: 300px;\"/></center>\n"
   ]
  },
  {
   "cell_type": "markdown",
   "metadata": {},
   "source": [
    "# Polymorphism"
   ]
  },
  {
   "cell_type": "markdown",
   "metadata": {},
   "source": [
    "- Multiple class have methods with same name and signature\n",
    "- But the implementations of the methods are different\n",
    "- Polymorphism requires inheritance\n",
    "- All descendant class inherit declaration from parent class\n",
    "- A descendant class can re-implement that method, including overriding the parent's implementation"
   ]
  },
  {
   "cell_type": "markdown",
   "metadata": {},
   "source": [
    "### Overriding"
   ]
  },
  {
   "cell_type": "markdown",
   "metadata": {},
   "source": [
    "<center><img src=\"images/01.02.png\"  style=\"width: 400px, height: 300px;\"/></center>"
   ]
  },
  {
   "cell_type": "markdown",
   "metadata": {},
   "source": [
    "### Overriding in Eclipse"
   ]
  },
  {
   "cell_type": "markdown",
   "metadata": {},
   "source": [
    "<center><img src=\"images/01.09.png\"  style=\"width: 400px, height: 300px;\"/></center>\n",
    "<center><img src=\"images/01.10.png\"  style=\"width: 400px, height: 300px;\"/></center>\n",
    "<center><img src=\"images/01.11.png\"  style=\"width: 400px, height: 300px;\"/></center>\n",
    "<center><img src=\"images/01.12.png\"  style=\"width: 400px, height: 300px;\"/></center>\n"
   ]
  },
  {
   "cell_type": "markdown",
   "metadata": {},
   "source": [
    "### Changed behavior in the override method"
   ]
  },
  {
   "cell_type": "markdown",
   "metadata": {},
   "source": [
    "<center><img src=\"images/01.13.png\"  style=\"width: 400px, height: 300px;\"/></center>\n"
   ]
  },
  {
   "cell_type": "markdown",
   "metadata": {},
   "source": [
    "### Association relationship"
   ]
  },
  {
   "cell_type": "markdown",
   "metadata": {},
   "source": [
    "- Two different class concept\n",
    "- Normally referred as aggregation or composition\n",
    "- \"has-a\" relationship between classes\n",
    "- There is cardinality present between the relationship of classes\n",
    "- This relationship is abstractly defined and implemented in the class that uses the abstract class"
   ]
  },
  {
   "cell_type": "markdown",
   "metadata": {},
   "source": [
    "<center><img src=\"images/01.21.png\"  style=\"width: 400px, height: 300px;\"/></center>\n"
   ]
  },
  {
   "cell_type": "markdown",
   "metadata": {},
   "source": [
    "# Interface"
   ]
  },
  {
   "cell_type": "markdown",
   "metadata": {},
   "source": [
    "- A way for java to provide multiple inheritance, just not in `class` form.\n",
    "    - So, java allows multiple instance of interface, instead of class\n",
    "- an interface is just a list of method signature\n",
    "- Interface allows the users to use polymorphic behavior of declared method signatures"
   ]
  },
  {
   "cell_type": "markdown",
   "metadata": {},
   "source": [
    "<center><img src=\"images/01.15.png\"  style=\"width: 400px, height: 300px;\"/></center>\n"
   ]
  },
  {
   "cell_type": "markdown",
   "metadata": {},
   "source": [
    "### Interface best practice"
   ]
  },
  {
   "cell_type": "markdown",
   "metadata": {},
   "source": [
    "<center><img src=\"images/01.14.png\"  style=\"width: 400px, height: 300px;\"/></center>\n"
   ]
  },
  {
   "cell_type": "markdown",
   "metadata": {},
   "source": [
    "### Refactoring"
   ]
  },
  {
   "cell_type": "markdown",
   "metadata": {},
   "source": [
    "- Always use getters instead of attributes inside the class\n",
    "    - Helps when refactoring code to another class\n",
    "    - Helps to isolate business problems\n",
    "    - Helps to loosely couple the code"
   ]
  },
  {
   "cell_type": "markdown",
   "metadata": {},
   "source": [
    "<center><img src=\"images/01.16.png\"  style=\"width: 400px, height: 300px;\"/></center>\n",
    "<center><img src=\"images/01.17.png\"  style=\"width: 400px, height: 300px;\"/></center>\n",
    "<center><img src=\"images/01.18.png\"  style=\"width: 400px, height: 300px;\"/></center>\n",
    "<center><img src=\"images/01.19.png\"  style=\"width: 400px, height: 300px;\"/></center>\n",
    "<center><img src=\"images/01.20.png\"  style=\"width: 400px, height: 300px;\"/></center>\n"
   ]
  },
  {
   "cell_type": "markdown",
   "metadata": {},
   "source": [
    "# Design Principles (The noun-verb filtering)"
   ]
  },
  {
   "cell_type": "markdown",
   "metadata": {},
   "source": [
    "- \"NOUNs\" = gives idea about objects and attributes of the objects\n",
    "- \"VERBs\" = gives idea about methods the objects will have"
   ]
  },
  {
   "cell_type": "markdown",
   "metadata": {},
   "source": [
    "### Example"
   ]
  },
  {
   "cell_type": "markdown",
   "metadata": {},
   "source": [
    "<center><img src=\"images/01.22.png\"  style=\"width: 400px, height: 300px;\"/></center>\n",
    "<center><img src=\"images/01.23.png\"  style=\"width: 400px, height: 300px;\"/></center>\n"
   ]
  },
  {
   "cell_type": "markdown",
   "metadata": {},
   "source": [
    "# CRC Cards"
   ]
  },
  {
   "cell_type": "markdown",
   "metadata": {},
   "source": [
    "- CRC represents class, responsibility, collaboration\n",
    "- 1 card holds CRC information of 1 class\n",
    "- CRC contains information about\n",
    "    1. Class name\n",
    "    2. Responsibilities of that class (methods of the class)\n",
    "    3. Collaboration of that class (Other classes that this class interacts with)\n",
    "    4. You chain the collaborative classes to find the whole system\n",
    "\n",
    "- Example:\n",
    "\n",
    "A customer has an account in a bank. He withdraws cash, deposits cash and checks balance of his Account from any Branch of that bank. "
   ]
  },
  {
   "cell_type": "markdown",
   "metadata": {},
   "source": [
    "<center><img src=\"images/01.25.png\"  style=\"width: 400px, height: 300px;\"/></center>\n",
    "<center><img src=\"images/01.26.png\"  style=\"width: 400px, height: 300px;\"/></center>\n"
   ]
  },
  {
   "cell_type": "markdown",
   "metadata": {},
   "source": [
    "# UML"
   ]
  },
  {
   "cell_type": "markdown",
   "metadata": {},
   "source": [
    "- Most popular designing practice. Known as Unified Modeling Language.\n",
    "- Watch for quick heads up : https://www.youtube.com/watch?v=6XrL5jXmTwM&ab_channel=LucidSoftware \n",
    "- Full tutorial : https://www.youtube.com/watch?v=WnMQ8HlmeXc&ab_channel=freeCodeCamp.org\n",
    "- or Read : https://www.lucidchart.com/pages/uml-class-diagram\n",
    "- 3 section:\n",
    "    1. Upper section : Contains class name\n",
    "    2. Middle section : Contains class attributes\n",
    "    3. Lower section : Contains class methods\n",
    "- Abstract class are written as `<<ClassName>>` or in italic  font\n",
    "- The derived class points to the base class with an arrow\n",
    "- Aggregation is open diamond on the end of a straightline clinging to the child  class (A child that can exist even without a parent). Can be a list.\n",
    "- Composition is closed diamond on the end of a straightline clinging to the parent  class (A child that can not exist  without a parent)\n",
    "- Private fields are -, public fields are +, static fields are underlined\n",
    "- Straightline means association of 2 classes. Along the arrow, multiplicity (cardinality) and/or association kind is specified\n"
   ]
  }
 ],
 "metadata": {
  "language_info": {
   "name": "python"
  }
 },
 "nbformat": 4,
 "nbformat_minor": 2
}
