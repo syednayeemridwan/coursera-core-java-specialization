{
 "cells": [
  {
   "cell_type": "markdown",
   "metadata": {},
   "source": [
    "# Week 1"
   ]
  },
  {
   "cell_type": "markdown",
   "metadata": {},
   "source": [
    "- Child class reference type is needed to access the child class members.\n",
    "- Access Parent class method from child class: `super.parentMethod()`\n",
    "- Always use interface for public methods\n",
    "- Always use getters instead of using attributes, since refactoring will void the functionality\n",
    "- Inheritance : \n",
    "    - This relationship groups classes according to similarities\n",
    "    - The goal is to re-use code of other classes\n",
    "    - \"Is-a\" relationship\n",
    "    - Strong ownership, without parent the child cannot exist\n",
    "- Aggregation / Composition : \n",
    "    - This relationship defines how classes are related\n",
    "    - The goal is to represent object collaboration with other classes\n",
    "    - \"Has-a\" relationship\n",
    "    - Weak ownership, without parent the child can exist independently\n",
    "- Abstract class:\n",
    "    - You cannot create an object from this class\n",
    "    - This relationship defines the behaviors that are not found in \"inheritance\"\n",
    "    - Allows more specificity of each class\n",
    "- Properties : \n",
    "    - Attributes with getters and setters\n",
    "    - Interface can define properties\n",
    "- \"Noun-Verb\" filtering method:\n",
    "    - \"Nouns\" are objects and their attributes\n",
    "    - \"Verbs\" are methods of objects\n"
   ]
  },
  {
   "cell_type": "markdown",
   "metadata": {},
   "source": []
  }
 ],
 "metadata": {
  "language_info": {
   "name": "python"
  }
 },
 "nbformat": 4,
 "nbformat_minor": 2
}
