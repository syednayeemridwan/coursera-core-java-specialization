{
 "cells": [
  {
   "cell_type": "markdown",
   "metadata": {},
   "source": [
    "# Week 1"
   ]
  },
  {
   "cell_type": "markdown",
   "metadata": {},
   "source": [
    "- Child class reference type is needed to access the child class members.\n",
    "- Access Parent class method from child class: `super.parentMethod()`\n",
    "- Access Parent class constructor from child class: `super()`\n",
    "- Always use interface for public methods\n",
    "- Always use getters instead of using attributes, since refactoring will void the functionality\n",
    "- Inheritance : \n",
    "    - This relationship groups classes according to similarities\n",
    "    - The goal is to re-use code of other classes\n",
    "    - \"Is-a\" relationship\n",
    "    - Strong ownership, without parent the child cannot exist\n",
    "- Aggregation / Composition : \n",
    "    - This relationship defines how classes are related\n",
    "    - The goal is to represent object collaboration with other classes\n",
    "    - \"Has-a\" relationship\n",
    "    - Weak ownership, without parent the child can exist independently\n",
    "- Abstract class:\n",
    "    - You cannot create an object from this class\n",
    "    - This relationship defines the behaviors that are not found in \"inheritance\"\n",
    "    - Allows more specificity of each class\n",
    "- Properties : \n",
    "    - Attributes with getters and setters\n",
    "    - Interface can define properties\n",
    "- \"Noun-Verb\" filtering method:\n",
    "    - \"Nouns\" are objects and their attributes\n",
    "    - \"Verbs\" are methods of objects\n"
   ]
  },
  {
   "cell_type": "markdown",
   "metadata": {},
   "source": [
    "# Week 2"
   ]
  },
  {
   "cell_type": "markdown",
   "metadata": {},
   "source": [
    "- Override = Polymorphism across inheritance\n",
    "- Interface = Polymorphism across different class\n",
    "- Check object type :\n",
    "    1. `obj instanceof ClassName` : Will return boolean result\n",
    "    2. `Class<?> objectType = obj.getClass();` : Will return the class the object belongs to\n",
    "- Printing with format : `String.format(\"String with format specifiers here: %d %s %f %x\", 10, \"input\", 2.7, 26); `"
   ]
  },
  {
   "cell_type": "markdown",
   "metadata": {},
   "source": [
    "# Week 3"
   ]
  },
  {
   "cell_type": "markdown",
   "metadata": {},
   "source": [
    "- Abstract class = cannot be instantiated, works as a partial class the methods of which need to be implemented by the class that extends it\n",
    "- \"is-a\" relationship allows us to use polymorphism \n",
    "- Type casting on inheritance class restricts us to use specific class members\n",
    "- interface can also help to implement \"is-a\" relationship\n",
    "- Ideally, Client code should not know of abstract classes, but rather interfaces\n",
    "- Upcasting : Storing child class object in parent class type reference\n",
    "- Downcasting : Storing parent class object in child class type reference\n"
   ]
  },
  {
   "cell_type": "markdown",
   "metadata": {},
   "source": [
    "# Week 4"
   ]
  },
  {
   "cell_type": "markdown",
   "metadata": {},
   "source": [
    "- Interface allows `is-a` relationship.\n",
    "- Interface acts as a virtual class placeholder.\n",
    "- Any class that implements an interface is a that virtual class.\n",
    "- Interface can act as a classtype\n",
    "- Interface can extend other one or multiple interfaces\n",
    "- Interface can have implemented default or static method\n",
    "- Interface weakness : no attributes (bypass with default, setters and getters inside interface )\n",
    "- Rule of thumb:\n",
    "    1. Use abstract to provide code re-use in subclass\n",
    "    2. Use interface to provide consistent method accross the hierarchy\n",
    "    3. Create interface first, class second, then abstract for refactoring"
   ]
  }
 ],
 "metadata": {
  "language_info": {
   "name": "python"
  }
 },
 "nbformat": 4,
 "nbformat_minor": 2
}
