{
 "cells": [
  {
   "cell_type": "markdown",
   "metadata": {},
   "source": [
    "# Week 1"
   ]
  },
  {
   "cell_type": "markdown",
   "metadata": {},
   "source": [
    "- Child class reference type is needed to access the child class members.\n",
    "- Access Parent class method from child class: `super.parentMethod()`\n",
    "- Access Parent class constructor from child class: `super()`\n",
    "- Always use interface for public methods\n",
    "- Always use getters instead of using attributes, since refactoring will void the functionality\n",
    "- Inheritance : \n",
    "    - This relationship groups classes according to similarities\n",
    "    - The goal is to re-use code of other classes\n",
    "    - \"Is-a\" relationship\n",
    "    - Strong ownership, without parent the child cannot exist\n",
    "- Aggregation / Composition : \n",
    "    - This relationship defines how classes are related\n",
    "    - The goal is to represent object collaboration with other classes\n",
    "    - \"Has-a\" relationship\n",
    "    - Weak ownership, without parent the child can exist independently\n",
    "- Abstract class:\n",
    "    - You cannot create an object from this class\n",
    "    - This relationship defines the behaviors that are not found in \"inheritance\"\n",
    "    - Allows more specificity of each class\n",
    "- Properties : \n",
    "    - Attributes with getters and setters\n",
    "    - Interface can define properties\n",
    "- \"Noun-Verb\" filtering method:\n",
    "    - \"Nouns\" are objects and their attributes\n",
    "    - \"Verbs\" are methods of objects\n"
   ]
  },
  {
   "cell_type": "markdown",
   "metadata": {},
   "source": [
    "# Week 2"
   ]
  },
  {
   "cell_type": "markdown",
   "metadata": {},
   "source": [
    "- Override = Polymorphism across inheritance\n",
    "- Interface = Polymorphism across different class\n",
    "- Check object type :\n",
    "    1. `obj instanceof ClassName` : Will return boolean result\n",
    "    2. `Class<?> objectType = obj.getClass();` : Will return the class the object belongs to\n",
    "- Printing with format : `String.format(\"String with format specifiers here: %d %s %f %x\", 10, \"input\", 2.7, 26); `"
   ]
  },
  {
   "cell_type": "markdown",
   "metadata": {},
   "source": []
  }
 ],
 "metadata": {
  "language_info": {
   "name": "python"
  }
 },
 "nbformat": 4,
 "nbformat_minor": 2
}
