{
 "cells": [
  {
   "cell_type": "markdown",
   "metadata": {},
   "source": [
    "# Extend"
   ]
  },
  {
   "cell_type": "markdown",
   "metadata": {},
   "source": [
    "- Every class extends `java.lang.Object`\n",
    "- There are many Object class methods. (check online)\n",
    "    - Never use `void finalize()`\n",
    "    - `Class getClass()` returns runtime class\n",
    "    - `notify()` , `wait()` etc are used in threads\n",
    "    - `String toString()` makes whatever it gets into strings\n",
    "    - If two objects are equal according to `equals()` method then they have the same `hashcode()`\n",
    "- Child class must call parent classe's constructor as `super()` on the first line of child class constructor;"
   ]
  },
  {
   "cell_type": "markdown",
   "metadata": {},
   "source": [
    "<center><img src=\"images/02.08.png\"  style=\"width: 400px, height: 300px;\"/></center>\n",
    "<center><img src=\"images/02.09.png\"  style=\"width: 400px, height: 300px;\"/></center>\n"
   ]
  },
  {
   "cell_type": "markdown",
   "metadata": {},
   "source": [
    "# Overriding `Object` class methods"
   ]
  },
  {
   "cell_type": "markdown",
   "metadata": {},
   "source": [
    "### Example 1 : Override `equals()` and `hashcode()`"
   ]
  },
  {
   "cell_type": "markdown",
   "metadata": {},
   "source": [
    "<center><img src=\"images/02.01.png\"  style=\"width: 400px, height: 300px;\"/></center>\n",
    "<center><img src=\"images/02.02.png\"  style=\"width: 400px, height: 300px;\"/></center>\n",
    "<center><img src=\"images/02.03.png\"  style=\"width: 400px, height: 300px;\"/></center>\n",
    "<center><img src=\"images/02.04.png\"  style=\"width: 400px, height: 300px;\"/></center>\n"
   ]
  },
  {
   "cell_type": "markdown",
   "metadata": {},
   "source": [
    "### Example 2 : Override `toString()`"
   ]
  },
  {
   "cell_type": "markdown",
   "metadata": {},
   "source": [
    "<center><img src=\"images/02.05.png\"  style=\"width: 400px, height: 300px;\"/></center>\n",
    "<center><img src=\"images/02.06.png\"  style=\"width: 400px, height: 300px;\"/></center>\n",
    "<center><img src=\"images/02.07.png\"  style=\"width: 400px, height: 300px;\"/></center>\n"
   ]
  },
  {
   "cell_type": "markdown",
   "metadata": {},
   "source": [
    "# Overloading"
   ]
  },
  {
   "cell_type": "markdown",
   "metadata": {},
   "source": [
    "- An overloaded method has the same name as another method in the same class, but has different parameter list\n",
    "- Always overload in the same level of class\n",
    "- Avoid overloading down the inheritance tree\n",
    "- In case you want to overload a method from parent class:\n",
    "    1. First override the method from parent class.\n",
    "    2. Then overload the method from the child class."
   ]
  },
  {
   "cell_type": "markdown",
   "metadata": {},
   "source": [
    "### Overriding example"
   ]
  },
  {
   "cell_type": "markdown",
   "metadata": {},
   "source": [
    "```\n",
    "class Animal {\n",
    "   public void displayInfo() {\n",
    "      System.out.println(\"I am an animal.\");\n",
    "   }\n",
    "}\n",
    "\n",
    "class Dog extends Animal {\n",
    "   @Override\n",
    "   public void displayInfo() {\n",
    "      System.out.println(\"I am a dog.\");\n",
    "   }\n",
    "}\n",
    "\n",
    "class Main {\n",
    "   public static void main(String[] args) {\n",
    "      Dog d1 = new Dog();\n",
    "      d1.displayInfo();\n",
    "   }\n",
    "}\n",
    "```"
   ]
  },
  {
   "cell_type": "markdown",
   "metadata": {},
   "source": [
    "### Overloading example"
   ]
  },
  {
   "cell_type": "markdown",
   "metadata": {},
   "source": [
    "```\n",
    "class Calculate\n",
    "{\n",
    "  void sum (int a, int b)\n",
    "  {\n",
    "    System.out.println(\"sum is\"+(a+b)) ;\n",
    "  }\n",
    "  void sum (float a, float b)\n",
    "  {\n",
    "    System.out.println(\"sum is\"+(a+b));\n",
    "  }\n",
    "  Public static void main (String[] args)\n",
    "  {\n",
    "    Calculate  cal = new Calculate();\n",
    "    cal.sum (8,5);      //sum(int a, int b) is method is called.\n",
    "    cal.sum (4.6f, 3.8f); //sum(float a, float b) is called.\n",
    "  }\n",
    "}\n",
    "```"
   ]
  }
 ],
 "metadata": {
  "language_info": {
   "name": "python"
  }
 },
 "nbformat": 4,
 "nbformat_minor": 2
}
