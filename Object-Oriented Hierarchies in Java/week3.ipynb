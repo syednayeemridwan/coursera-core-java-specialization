{
 "cells": [
  {
   "cell_type": "markdown",
   "metadata": {},
   "source": [
    "# Abstract Class"
   ]
  },
  {
   "cell_type": "markdown",
   "metadata": {},
   "source": [
    "- Cannot be instantiated\n",
    "- References can be created from this class\n",
    "- May include\n",
    "    - attributes\n",
    "    - methods\n",
    "    - abstract methods\n",
    "- Use them when you have attributes and method implementations you want to share with a range of subclasses\n",
    "- Any class that extends an abstract class must override abstract classe's abstract methods"
   ]
  },
  {
   "cell_type": "markdown",
   "metadata": {},
   "source": [
    "### Example"
   ]
  },
  {
   "cell_type": "markdown",
   "metadata": {},
   "source": [
    "```\n",
    "abstract class Animal { // Base abstract class\n",
    "  public abstract void animalSound(); // This is the abstract method in base class\n",
    "  protected int ageInMonth(int ageInYears){ // shared implementation for derived class\n",
    "    return ageInYears*12;\n",
    "  }\n",
    "}\n",
    "\n",
    "class Cat extends Animal {\n",
    "  @Override  \t\t\t\t\n",
    "  public void animalSound() {\n",
    "    System.out.println(\"Mew\"); // Abstract must be implemented in derived class\n",
    "  }\n",
    "}\n",
    "\n",
    "abstract class Dog extends Animal {\t\t// The derived class is also abstract class\t\t\n",
    "    // No need for animalSound() method since this class is an abstract class\n",
    "}\n",
    "\n",
    "class Main {\n",
    "  public static void main(String[] args) {\n",
    "    var myAnimal = new Animal();  // Invalid, abstract class cannot be instantiated\n",
    "    var myCat = new Cat();  // valid\n",
    "    var myDog = new Dog();   // Invalid, abstract class cannot be instantiated\n",
    "\n",
    "    myCat.animalSound(); // Forced Polymorphed behavior in derived class 1\n",
    "  }\n",
    "}\n",
    "```"
   ]
  },
  {
   "cell_type": "markdown",
   "metadata": {},
   "source": [
    "# Reference type restricts class member access "
   ]
  },
  {
   "cell_type": "markdown",
   "metadata": {},
   "source": [
    "<center><img src=\"images/03.01.png\"  style=\"width: 400px, height: 300px;\"/></center>\n",
    "<center><img src=\"images/03.02.png\"  style=\"width: 400px, height: 300px;\"/></center>"
   ]
  },
  {
   "cell_type": "markdown",
   "metadata": {},
   "source": [
    "### Upcasting"
   ]
  },
  {
   "cell_type": "markdown",
   "metadata": {},
   "source": [
    "- Going up an inheritance tree\n",
    "- Treating a lower hierarchical object to an upper level hierarchical type in inheritance tree\n",
    "- References works implicitly\n",
    "- In short: child class object can be referenced using parent class type implicitly while storing the object\n",
    "- example : `Animal duck = new Duck();`"
   ]
  },
  {
   "cell_type": "markdown",
   "metadata": {},
   "source": [
    "### Downcasting"
   ]
  },
  {
   "cell_type": "markdown",
   "metadata": {},
   "source": [
    "- Going down an inheritance tree\n",
    "- Treating an upper level object to a lower hierarchical hierarchical type in inheritance tree\n",
    "- References require explicit casting\n",
    "- In short: parent class object requires explicit referencing while storing in child class type \n",
    "- example : `Duck duck = (Duck) new Animal();`\n"
   ]
  }
 ],
 "metadata": {
  "language_info": {
   "name": "python"
  }
 },
 "nbformat": 4,
 "nbformat_minor": 2
}
