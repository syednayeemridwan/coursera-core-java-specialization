{
 "cells": [
  {
   "cell_type": "markdown",
   "metadata": {},
   "source": [
    "# Week 1"
   ]
  },
  {
   "cell_type": "markdown",
   "metadata": {},
   "source": [
    "- printf example: `System.out.printf(\"%.2f\" , value);`\n",
    "- An object array : `ClassName obj[]= new ClassName[array_length] ;`\n",
    "- Key concepts:\n",
    "    1. Encapsulation\n",
    "    2. Inheritance\n",
    "    3. Polymorphism"
   ]
  },
  {
   "cell_type": "markdown",
   "metadata": {},
   "source": [
    "# Week 2"
   ]
  },
  {
   "cell_type": "markdown",
   "metadata": {},
   "source": [
    "- java ternary operator: `int max = val1 >= val2 ? val1 : val2;`\n",
    "- You can use setters to set values of properties inside constructors\n",
    "- You can use constructor chaining with `this` keyword\n",
    "- static attributes : \n",
    "    - Attributes that are shared by all instances of the same class. \n",
    "    - contains `static` keyword.\n",
    "- static methods : \n",
    "    - methods that are shared by all instances of the same class. \n",
    "    - contains `static` keyword.\n",
    "    - only access static attributes.\n",
    "    - accessed like : `ClassName.methodName()`\n",
    "- `final` attributes are permanent and the values cannot be changed"
   ]
  },
  {
   "cell_type": "markdown",
   "metadata": {},
   "source": [
    "# Week 3"
   ]
  },
  {
   "cell_type": "markdown",
   "metadata": {},
   "source": [
    "- Creating object is a 2 step process:\n",
    "    1. create an object in memory by calling constructor:  `new ClassName()`\n",
    "    2. store the reference of the object inside a variable : `ClassName varName = `"
   ]
  }
 ],
 "metadata": {
  "language_info": {
   "name": "python"
  }
 },
 "nbformat": 4,
 "nbformat_minor": 2
}
