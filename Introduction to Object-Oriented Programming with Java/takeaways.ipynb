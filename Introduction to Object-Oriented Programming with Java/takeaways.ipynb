{
 "cells": [
  {
   "cell_type": "markdown",
   "metadata": {},
   "source": [
    "# Week 1"
   ]
  },
  {
   "cell_type": "markdown",
   "metadata": {},
   "source": [
    "- printf example: `System.out.printf(\"%.2f\" , value);`\n",
    "- An object array : `ClassName obj[]= new ClassName[array_length] ;`\n",
    "- Key concepts:\n",
    "    1. Encapsulation\n",
    "    2. Inheritance\n",
    "    3. Polymorphism"
   ]
  }
 ],
 "metadata": {
  "language_info": {
   "name": "python"
  }
 },
 "nbformat": 4,
 "nbformat_minor": 2
}
