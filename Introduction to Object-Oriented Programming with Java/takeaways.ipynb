{
 "cells": [
  {
   "cell_type": "markdown",
   "metadata": {},
   "source": [
    "# Week 1"
   ]
  },
  {
   "cell_type": "markdown",
   "metadata": {},
   "source": [
    "- printf example: `System.out.printf(\"%.2f\" , value);`\n",
    "- An object array : `ClassName obj[]= new ClassName[array_length] ;`\n",
    "- Key concepts:\n",
    "    1. Encapsulation\n",
    "    2. Inheritance\n",
    "    3. Polymorphism"
   ]
  },
  {
   "cell_type": "markdown",
   "metadata": {},
   "source": [
    "# Week 2"
   ]
  },
  {
   "cell_type": "markdown",
   "metadata": {},
   "source": [
    "- java ternary operator: `int max = val1 >= val2 ? val1 : val2;`\n",
    "- You can use setters to set values of properties inside constructors\n",
    "- You can use constructor chaining with `this` keyword\n",
    "- static attributes : \n",
    "    - Attributes that are shared by all instances of the same class. \n",
    "    - contains `static` keyword.\n",
    "- static methods : \n",
    "    - methods that are shared by all instances of the same class. \n",
    "    - contains `static` keyword.\n",
    "    - only access static attributes.\n",
    "    - accessed like : `ClassName.methodName()`\n",
    "- `final` attributes are permanent and the values cannot be changed"
   ]
  }
 ],
 "metadata": {
  "language_info": {
   "name": "python"
  }
 },
 "nbformat": 4,
 "nbformat_minor": 2
}
