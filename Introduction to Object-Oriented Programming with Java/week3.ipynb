{
 "cells": [
  {
   "cell_type": "markdown",
   "metadata": {},
   "source": [
    "# Under the hood"
   ]
  },
  {
   "cell_type": "markdown",
   "metadata": {},
   "source": [
    "- JRE has a data structure called reference table. Java uses this table to keep tracks of objects\n",
    "- when a constructor of a class is called\n",
    "    - Java sees if the class is loaded in memory\n",
    "    - If not, it sets up a block of memory to hold the class\n",
    "    - This memory block will be shared for every instance of this class\n",
    "    - methods will be stored in same address for  objects belonging to the same class in method block\n",
    "    - data will be stored in different address for objects belonging to the same class in attribute block\n",
    "    - Objects are managed by the JVM\n",
    "    - Object members are accessed using the dot notation\n"
   ]
  },
  {
   "cell_type": "markdown",
   "metadata": {},
   "source": [
    "<center><img src=\"images/03.01.png\"  style=\"width: 400px, height: 300px;\"/></center>"
   ]
  },
  {
   "cell_type": "markdown",
   "metadata": {},
   "source": []
  }
 ],
 "metadata": {
  "language_info": {
   "name": "python"
  }
 },
 "nbformat": 4,
 "nbformat_minor": 2
}
