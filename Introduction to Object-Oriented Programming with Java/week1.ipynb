{
 "cells": [
  {
   "cell_type": "markdown",
   "metadata": {},
   "source": [
    "# History of OOP"
   ]
  },
  {
   "cell_type": "markdown",
   "metadata": {},
   "source": [
    "\n",
    "<center><img src=\"images/01.01.png\"  style=\"width: 400px, height: 300px;\"/></center>"
   ]
  },
  {
   "cell_type": "markdown",
   "metadata": {},
   "source": [
    "# Why OOP"
   ]
  },
  {
   "cell_type": "markdown",
   "metadata": {},
   "source": [
    "- Adopted to manage complexity \n",
    "- Code re-use (by different programs)\n",
    "- Manage change by following principles in tangled environment (more flexible) \n",
    "- You only write plug-ins not the underlying concept (Abstraction)\n",
    "- Simpler, smaller codes can be packed/integrated together (more extensible, collaboration)\n",
    "    - A file is a single class in java (Isomorphism)\n"
   ]
  },
  {
   "cell_type": "markdown",
   "metadata": {},
   "source": [
    "# Class and Object"
   ]
  },
  {
   "cell_type": "markdown",
   "metadata": {},
   "source": [
    "<center><img src=\"images/01.02.png\"  style=\"width: 400px, height: 300px;\"/></center>\n"
   ]
  },
  {
   "cell_type": "markdown",
   "metadata": {},
   "source": [
    "- Class:\n",
    "    - Blueprint of objects\n",
    "    - Defines characteristics of same type (Template)\n",
    "- Object:\n",
    "    - Instance of class\n",
    "    - Every object has reference value as unique identifier\n",
    "    - a creation from the template or class with specified information\n",
    "    - Created at runtime\n",
    "- Attribute:\n",
    "    - Class tells what type of data it can hold (specifies only type of data)\n",
    "    - Object hold that data (holds the data itself)\n",
    "- Method:\n",
    "    - class tells what behaviors are available (Class only makes behavior available for execution)\n",
    "    - object executes the behavior (Execution of method is occured by object itself to change data)"
   ]
  },
  {
   "cell_type": "markdown",
   "metadata": {},
   "source": [
    "# UML"
   ]
  },
  {
   "cell_type": "markdown",
   "metadata": {},
   "source": [
    "<center><img src=\"images/01.03.png\"  style=\"width: 400px, height: 300px;\"/></center>\n"
   ]
  },
  {
   "cell_type": "markdown",
   "metadata": {},
   "source": [
    "# Creating Getters and Setters in Eclipse"
   ]
  },
  {
   "cell_type": "markdown",
   "metadata": {},
   "source": [
    "<center><img src=\"images/01.04.png\"  style=\"width: 400px, height: 300px;\"/></center>\n",
    "<center><img src=\"images/01.05.png\"  style=\"width: 400px, height: 300px;\"/></center>\n",
    "<center><img src=\"images/01.06.png\"  style=\"width: 400px, height: 300px;\"/></center>\n"
   ]
  },
  {
   "cell_type": "markdown",
   "metadata": {},
   "source": [
    "# Some Q/A"
   ]
  },
  {
   "cell_type": "markdown",
   "metadata": {},
   "source": [
    "- Single responsibility principle : A class should only have one responsibility (does only one thing)\n",
    "- Encapsulation : Implementation hiding behind a surface\n",
    "- Polymorphism: Common interface, different implementations\n",
    "- Inheheritance : Create specialized forms from an abstraction or more generalized class\n",
    "- Attributes: names of data that make up objects.\n",
    "- Method : Behaviors or actions that a class can perform to change data or state of objects\n",
    "- Signature : name of method and list of values/parameters that a method accepts to process a task.\n",
    "- Java Beans and Properties: presence of attributes and related methods that follow specified naming conventions (eg: setters and getters)\n",
    "- `this` keyword points to only class-level attributes\n",
    "- Read-Only Property : the property / attribute only has getter but no setter    \n",
    "- A java class can have only one main method (A single starting point of the program)\n"
   ]
  }
 ],
 "metadata": {
  "language_info": {
   "name": "python"
  }
 },
 "nbformat": 4,
 "nbformat_minor": 2
}
