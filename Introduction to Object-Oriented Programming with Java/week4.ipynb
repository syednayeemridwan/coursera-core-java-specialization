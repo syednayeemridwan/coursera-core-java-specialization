{
 "cells": [
  {
   "cell_type": "markdown",
   "metadata": {},
   "source": [
    "# Jar"
   ]
  },
  {
   "cell_type": "markdown",
   "metadata": {},
   "source": [
    "- java files are packed as jars. They are packaging of directory tree.\n",
    "- jars are nothing but zip files. But there is no need to extract it, you can directly use it.\n",
    "- Other than jre, everything that is needed to run is included in the jar file\n",
    "- jar files is used for deployment.\n",
    "- Each class inside jar is searched by JRE with its package name (fully qualified name like `com.something.demo.classname`)"
   ]
  },
  {
   "cell_type": "markdown",
   "metadata": {},
   "source": [
    "# Packages"
   ]
  },
  {
   "cell_type": "markdown",
   "metadata": {},
   "source": [
    "- Package is the container for related classes\n",
    "- named in reverse domain name : `com.domainname.subdomain`\n",
    "- packages must be mapped in the computer where it will be used\n",
    "- it is required to provide `CLASSPATH` variable to the JVM for that package\n",
    "- `CLASSPATH` variable lists all the paths where java packages can be found\n",
    "- JVM translates packages from the `imprort` statements to locate the required classes\n",
    "- Importing public class from a different package: \n",
    "    1. Using wildcards : `import java.io.*` (Do not do this, may create name collission)\n",
    "    2. Use specific class only: `import package1.someotherpackage.ClassName`\n",
    "    "
   ]
  },
  {
   "cell_type": "markdown",
   "metadata": {},
   "source": [
    "### Creating package in Eclipse"
   ]
  },
  {
   "cell_type": "markdown",
   "metadata": {},
   "source": [
    "<center><img src=\"images/04.01.png\"  style=\"width: 400px, height: 300px;\"/></center>\n",
    "<center><img src=\"images/04.02.png\"  style=\"width: 400px, height: 300px;\"/></center>"
   ]
  },
  {
   "cell_type": "markdown",
   "metadata": {},
   "source": [
    "### Alternative approach"
   ]
  },
  {
   "cell_type": "markdown",
   "metadata": {},
   "source": [
    "<center><img src=\"images/04.03.png\"  style=\"width: 400px, height: 300px;\"/></center>\n",
    "<center><img src=\"images/04.04.png\"  style=\"width: 400px, height: 300px;\"/></center>\n",
    "<center><img src=\"images/04.05.png\"  style=\"width: 400px, height: 300px;\"/></center>\n"
   ]
  },
  {
   "cell_type": "markdown",
   "metadata": {},
   "source": [
    "### Name Collission during importing package"
   ]
  },
  {
   "cell_type": "markdown",
   "metadata": {},
   "source": [
    "<center><img src=\"images/04.06.png\"  style=\"width: 400px, height: 300px;\"/></center>\n"
   ]
  },
  {
   "cell_type": "markdown",
   "metadata": {},
   "source": [
    "### Resolving Name Collission"
   ]
  },
  {
   "cell_type": "markdown",
   "metadata": {},
   "source": [
    "- Use fully qualified names for other same local class names that produce the collission"
   ]
  },
  {
   "cell_type": "markdown",
   "metadata": {},
   "source": [
    "<center><img src=\"images/04.07.png\"  style=\"width: 400px, height: 300px;\"/></center>\n"
   ]
  },
  {
   "cell_type": "markdown",
   "metadata": {},
   "source": [
    "# String"
   ]
  },
  {
   "cell_type": "markdown",
   "metadata": {},
   "source": [
    "- Creating string object: `String someString = new String(\"Hello\");`\n",
    "    - You can now access string object `someString` and the underlying methods.\n",
    "- `StringBuffer` works well with threads, but there is performance penalty\n",
    "- `StringBuilder` is optimized solution of `StringBuffer`, but without any performance overhead\n"
   ]
  },
  {
   "cell_type": "markdown",
   "metadata": {},
   "source": [
    "<center><img src=\"images/04.08.png\"  style=\"width: 400px, height: 300px;\"/></center>\n"
   ]
  },
  {
   "cell_type": "markdown",
   "metadata": {},
   "source": []
  }
 ],
 "metadata": {
  "language_info": {
   "name": "python"
  }
 },
 "nbformat": 4,
 "nbformat_minor": 2
}
