{
 "cells": [
  {
   "cell_type": "markdown",
   "metadata": {},
   "source": [
    "# Common Knowledge"
   ]
  },
  {
   "cell_type": "markdown",
   "metadata": {},
   "source": [
    "- Package name : `com.domainname.subdomain`\n",
    "    - Package is not tied to the root of any file system (Java treats all package relative)\n",
    "    - These dots are the slashes (/) that express directory path from the root of the file\n",
    "- Eclipse belongs to IBM\n",
    "- Source codes are in \"ClassName.java\"\n",
    "- Byte codes are in \"ClassName.class\"\n",
    "- `final class` : Is a class that will not produce a subclass (No extending allowed)\n",
    "- Most class will be `public`\n",
    "- Every java class extends `java.lang.Object`\n",
    "- You cannot extend more than one base class.\n",
    "- Data should be confidential or `private`, the code should be `public`\n",
    "- Make sure class accessibility is marked `private` or `public` and not the default `protected`\n",
    "- constructor : \n",
    "    - special method that java uses to create objects from a class\n",
    "    - must have the same name as class\n",
    "    - does not return anything, not even `void`\n",
    "    - `new ConstructorName()` calls for creation of new object of the class\n"
   ]
  },
  {
   "cell_type": "markdown",
   "metadata": {},
   "source": [
    "<center><img src=\"images/02.01.png\"  style=\"width: 400px, height: 300px;\"/></center>"
   ]
  },
  {
   "cell_type": "markdown",
   "metadata": {},
   "source": [
    "### Overloading"
   ]
  },
  {
   "cell_type": "markdown",
   "metadata": {},
   "source": [
    "- Same method name\n",
    "- Different types or number of parameters\n",
    "\n",
    "<center><img src=\"images/02.02.png\"  style=\"width: 400px, height: 300px;\"/></center>\n"
   ]
  },
  {
   "cell_type": "markdown",
   "metadata": {},
   "source": [
    "### Varargs"
   ]
  },
  {
   "cell_type": "markdown",
   "metadata": {},
   "source": [
    "- Works with multiple inputs\n",
    "- Works with array of inputs\n",
    "\n",
    "```\n",
    "public class SomeClass{\n",
    "    public void someMethod(int ... vars){\n",
    "    // logic\n",
    "}\n",
    "}\n",
    "\n",
    "var obj1 = new SomeClass();\n",
    "var obj2 = new SomeClass();\n",
    "\n",
    "obj1.someMethod(10, 20, 30, 40); // Works\n",
    "obj2.someMethod(new int [] {10, 20, 30, 40}); // works\n",
    "```"
   ]
  },
  {
   "cell_type": "markdown",
   "metadata": {},
   "source": [
    "### Constructor chaining"
   ]
  },
  {
   "cell_type": "markdown",
   "metadata": {},
   "source": [
    "- Use `this` keyword\n",
    "\n",
    "<center><img src=\"images/02.04.png\"  style=\"width: 400px, height: 300px;\"/></center>\n"
   ]
  },
  {
   "cell_type": "markdown",
   "metadata": {},
   "source": [
    "### Setting values using setters and constructors"
   ]
  },
  {
   "cell_type": "markdown",
   "metadata": {},
   "source": [
    "<center><img src=\"images/02.05.png\"  style=\"width: 400px, height: 300px;\"/></center>\n"
   ]
  }
 ],
 "metadata": {
  "language_info": {
   "name": "python"
  }
 },
 "nbformat": 4,
 "nbformat_minor": 2
}
