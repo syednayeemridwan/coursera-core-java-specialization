{
 "cells": [
  {
   "cell_type": "markdown",
   "metadata": {},
   "source": [
    "# Input Stream"
   ]
  },
  {
   "cell_type": "markdown",
   "metadata": {},
   "source": [
    "<center><img src=\"images/04.01.png\"  style=\"width: 400px, height: 300px;\"/></center>\n"
   ]
  },
  {
   "cell_type": "markdown",
   "metadata": {},
   "source": [
    "# Output Stream"
   ]
  },
  {
   "cell_type": "markdown",
   "metadata": {},
   "source": [
    "<center><img src=\"images/04.02.png\"  style=\"width: 400px, height: 300px;\"/></center>\n"
   ]
  },
  {
   "cell_type": "markdown",
   "metadata": {},
   "source": [
    "# Property Files"
   ]
  },
  {
   "cell_type": "markdown",
   "metadata": {},
   "source": [
    "- simple text file.\n",
    "- Stores data in key-value pairs\n",
    "- Has a .properties extension"
   ]
  },
  {
   "cell_type": "markdown",
   "metadata": {},
   "source": [
    "### Example File"
   ]
  },
  {
   "cell_type": "markdown",
   "metadata": {},
   "source": [
    "```\n",
    "# Database configuration\n",
    "db.url=jdbc:mysql://localhost:3306/mydatabase\n",
    "db.username=admin\n",
    "db.password=secret\n",
    "\n",
    "# Server configuration\n",
    "server.port=8080\n",
    "server.host=localhost\n",
    "\n",
    "```"
   ]
  },
  {
   "cell_type": "markdown",
   "metadata": {},
   "source": [
    "### Reading Properties File"
   ]
  },
  {
   "cell_type": "markdown",
   "metadata": {},
   "source": [
    "```\n",
    "import java.io.FileInputStream;\n",
    "import java.io.IOException;\n",
    "import java.util.Properties;\n",
    "\n",
    "public class PropertyFileReader {\n",
    "    public static void main(String[] args) {\n",
    "        Properties properties = new Properties();\n",
    "\n",
    "        try (FileInputStream input = new FileInputStream(\"config.properties\")) {\n",
    "            // Load the properties file\n",
    "            properties.load(input);\n",
    "\n",
    "            // Retrieve values\n",
    "            String dbUrl = properties.getProperty(\"db.url\");\n",
    "            String dbUsername = properties.getProperty(\"db.username\");\n",
    "            String dbPassword = properties.getProperty(\"db.password\");\n",
    "\n",
    "            // Display values\n",
    "            System.out.println(\"Database URL: \" + dbUrl);\n",
    "            System.out.println(\"Database Username: \" + dbUsername);\n",
    "            System.out.println(\"Database Password: \" + dbPassword);\n",
    "        } catch (IOException e) {\n",
    "            e.printStackTrace();\n",
    "        }\n",
    "    }\n",
    "}\n",
    "\n",
    "```"
   ]
  },
  {
   "cell_type": "markdown",
   "metadata": {},
   "source": [
    "# Java IO (Input/Output) vs Java NIO (New I/O)"
   ]
  },
  {
   "cell_type": "markdown",
   "metadata": {},
   "source": [
    "- Java IO\n",
    "    - stream-oriented. \n",
    "    - works with InputStreams and OutputStreams\n",
    "    - operations are performed sequencely byte by byte, in syncronous manner. One task needs to be completed before beginning the next task\n",
    "    - Goal : When blocking IO is acceptable (simplicity is the primary concern).\n",
    "- Java NIO\n",
    "    - buffer-oriented. \n",
    "    - uses Buffers for handling data.\n",
    "    - supports asynchronous IO operations (Complex API with Channels)\n",
    "    - Goal : When simultaneous IO is required for scalability (More efficient)"
   ]
  },
  {
   "cell_type": "markdown",
   "metadata": {},
   "source": [
    "### Buffered vs Unbuffered"
   ]
  },
  {
   "cell_type": "markdown",
   "metadata": {},
   "source": [
    "- Buffered :\n",
    "    - optimize IO operations by reducing the number of system calls.\n",
    "    - provide additional methods for efficient operations.\n",
    "    - Reduce disk space\n",
    "- Unbuffered:\n",
    "    - Performs IO operations directly without using buffers.\n",
    "    - Raw format read/write"
   ]
  },
  {
   "cell_type": "markdown",
   "metadata": {},
   "source": [
    "### File vs Reader/ Writer"
   ]
  },
  {
   "cell_type": "markdown",
   "metadata": {},
   "source": [
    "- File :\n",
    "    - Deals with file system or directories\n",
    "    - Traverse directories\n",
    "    - Allows to get information about contents, permission and types of files\n",
    "- Reader :\n",
    "    - Allows to read from a file object/stream\n",
    "- Writer :\n",
    "    - Allows to write in a file object/stream"
   ]
  },
  {
   "cell_type": "markdown",
   "metadata": {},
   "source": [
    "# Reading and Writing with java IO"
   ]
  },
  {
   "cell_type": "markdown",
   "metadata": {},
   "source": [
    "```\n",
    "public class IoExample {\n",
    "    public static void main(String[] args) {\n",
    "        // File paths\n",
    "        String inputFilePath = \"input.txt\";\n",
    "        String outputFilePath = \"output.txt\";\n",
    "        // Write to file using BufferedWriter (with append)\n",
    "        writeToBufferedWriter(outputFilePath, \"Hello, BufferedWriter!\");\n",
    "        // Read from file using BufferedReader\n",
    "        String content = readFromBufferedReader(inputFilePath);\n",
    "        System.out.println(\"Read from file: \" + content);\n",
    "    }\n",
    "  // ********* Write Method **********************\n",
    "    private static void writeToBufferedWriter(String filePath, String data) throws IOException{\n",
    "        try (BufferedWriter writer = new BufferedWriter(new FileWriter(filePath, true))) {\n",
    "            // Write data to the file using BufferedWriter with append mode \"true\"\n",
    "            writer.write(data);\n",
    "        } catch (IOException e) {\n",
    "            e.printStackTrace();\n",
    "        }\n",
    "    }\n",
    "  // ********* Read Method **********************\n",
    "    private static String readFromBufferedReader(String filePath) throws IOException{\n",
    "        StringBuilder content = new StringBuilder();\n",
    "        try (BufferedReader reader = new BufferedReader(new FileReader(filePath))) {\n",
    "            String line = reader.readLine();\n",
    "            while (line != null) {\n",
    "                content.append(line).append(\"\\n\");\n",
    "                line = reader.readLine();\n",
    "            }\n",
    "        } catch (IOException e) {\n",
    "            e.printStackTrace();\n",
    "        }\n",
    "        return content.toString();\n",
    "    }\n",
    "}\n",
    "```"
   ]
  },
  {
   "cell_type": "markdown",
   "metadata": {},
   "source": [
    "# Reading and Writing with Java NIO"
   ]
  },
  {
   "cell_type": "markdown",
   "metadata": {},
   "source": [
    "```\n",
    "import java.io.IOException;\n",
    "import java.nio.file.Files;\n",
    "import java.nio.file.Path;\n",
    "import java.nio.file.Paths;\n",
    "import java.nio.file.StandardOpenOption;\n",
    "\n",
    "public class NIOExample {\n",
    "    public static void main(String[] args) {\n",
    "        // File paths\n",
    "        String inputFilePath = \"input.txt\";\n",
    "        String outputFilePath = \"output.txt\";\n",
    "\n",
    "        // Write to file using Files.write (with append)\n",
    "        writeToNIO(outputFilePath, \"Hello, NIO!\");\n",
    "\n",
    "        // Read from file using Files.readAllLines\n",
    "        try {\n",
    "            String content = readFromNIO(inputFilePath);\n",
    "            System.out.println(\"Read from file: \" + content);\n",
    "        } catch (IOException e) {\n",
    "            e.printStackTrace();\n",
    "        }\n",
    "    }\n",
    "\n",
    "    // ********* Write Method **********************\n",
    "    private static void writeToNIO(String filePath, String data) {\n",
    "        try {\n",
    "            // Write data to the file using Files.write with append mode\n",
    "            Files.write(Paths.get(filePath), data.getBytes(), StandardOpenOption.CREATE, StandardOpenOption.APPEND);\n",
    "        } catch (IOException e) {\n",
    "            e.printStackTrace();\n",
    "        }\n",
    "    }\n",
    "\n",
    "    // ********* Read Method **********************\n",
    "    private static String readFromNIO(String filePath) throws IOException {\n",
    "        StringBuilder content = new StringBuilder();\n",
    "        // Read all lines from the file using Files.readAllLines\n",
    "        Files.readAllLines(Paths.get(filePath)).forEach(line -> content.append(line).append(\"\\n\"));\n",
    "        return content.toString();\n",
    "    }\n",
    "}\n",
    "\n",
    "```"
   ]
  }
 ],
 "metadata": {
  "language_info": {
   "name": "python"
  }
 },
 "nbformat": 4,
 "nbformat_minor": 2
}
