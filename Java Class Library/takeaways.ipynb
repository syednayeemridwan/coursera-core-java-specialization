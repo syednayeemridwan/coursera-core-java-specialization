{
 "cells": [
  {
   "cell_type": "markdown",
   "metadata": {},
   "source": [
    "# Week 1"
   ]
  },
  {
   "cell_type": "markdown",
   "metadata": {},
   "source": [
    "- get name of class : `obj.getClass().getName();`\n",
    "- Always use Interface to deal with generics (Best polymorphic rule)\n",
    "    - eg: `InterfaceName<T> varName = new ClassName <>();`\n",
    "- There is no generic at runtime. Because, at tuntime, they are the same class.\n",
    "- Generic is only at compile time to enforce rule of type safety."
   ]
  },
  {
   "cell_type": "markdown",
   "metadata": {},
   "source": [
    "### Generic"
   ]
  },
  {
   "cell_type": "markdown",
   "metadata": {},
   "source": [
    "- Generics : Enforce rule on objects to allow type-safety on objects during compile time\n"
   ]
  },
  {
   "cell_type": "markdown",
   "metadata": {},
   "source": [
    "```\n",
    "// Generic interface\n",
    "interface BoxInterface<T> {\n",
    "    void setValue(T value);\n",
    "    T getValue();\n",
    "}\n",
    "\n",
    "// Generic class implementing the BoxInterface with T\n",
    "class Box<T> implements BoxInterface<T> {\n",
    "    private T value;\n",
    "\n",
    "    @Override\n",
    "    public void setValue(T value) {\n",
    "        this.value = value;\n",
    "    }\n",
    "\n",
    "    @Override\n",
    "    public T getValue() {\n",
    "        return value;\n",
    "    }\n",
    "}\n",
    "\n",
    "public class Main {\n",
    "    public static void main(String[] args) {\n",
    "        // Using T \n",
    "        Box<String> stringBox = new Box<>();\n",
    "        stringBox.setValue(\"Hello, Generics!\");\n",
    "        String stringValue = stringBox.getValue();\n",
    "\n",
    "        // Using ? (wildcard) with Interface\n",
    "        BoxInterface<?> wildcardBox = stringBox;\n",
    "        // wildcardBox.setValue(\"This won't compile\"); // We cannot set value of unknown type\n",
    "        Object wildcardValue = wildcardBox.getValue(); // We can only cast value to Object type\n",
    "\n",
    "        // Using ? extends T (upper bounded wildcard) with Interface\n",
    "        // Focus type : the type on the right side of extend\n",
    "        BoxInterface<? extends String> upperBoundedWildcardBox = stringBox;\n",
    "        // upperBoundedWildcardBox.setValue(\"This won't compile\"); // We cannot set value of unknown type\n",
    "        String upperBoundedWildcardValue = upperBoundedWildcardBox.getValue(); // We can only cast value to Parent type, String in this case\n",
    "\n",
    "        // Using ? super T (loower bounded wildcard) with Interface\n",
    "        // Focus type : the type on the left side of super\n",
    "        BoxInterface<? super String> lowerBoundedWildcardBox = new Box<>();\n",
    "        lowerBoundedWildcardBox.setValue(\"Lower Bounded Wildcard\");  // We can set value to parent type, String in this case\n",
    "        Object lowerBoundedWildcardValue = lowerBoundedWildcardBox.getValue(); // We can only cast value to Parent type, Object in this case\n",
    "    }\n",
    "}\n",
    "```"
   ]
  },
  {
   "cell_type": "markdown",
   "metadata": {},
   "source": [
    "### Generic Method"
   ]
  },
  {
   "cell_type": "markdown",
   "metadata": {},
   "source": [
    "```\n",
    "// Generic method example 1\n",
    "<T> void fromArrayToCollection(T[] a, Collection<T> c){\n",
    "    for (T o: a){\n",
    "        c.add(o);\n",
    "    }\n",
    "}\n",
    "\n",
    "// Generic method example 2\n",
    "public static <T extends SomeClass & SomeInterface> methodName(T o){\n",
    "    o.setterMethod(123);\n",
    "}\n",
    "\n",
    "// Generic method example 3\n",
    "public static <T> Stack <T> loadFromArray(Object[] arr, Class<T> type){\n",
    "    Stack <T> stack = new StackArray<>(arr.length);\n",
    "    for (Object o:arr){\n",
    "        if (type.isInstance(o)){\n",
    "            stack.push( (T) o); // type checking with \"isInstance\" and casting. \"instanceof\" will not work here.\n",
    "        }\n",
    "    }\n",
    "}\n",
    "<Car> c = loadFromArray(object_arr_of_cars, Car.class);\n",
    "\n",
    "\n",
    "```"
   ]
  },
  {
   "cell_type": "markdown",
   "metadata": {},
   "source": [
    "### Nested Class"
   ]
  },
  {
   "cell_type": "markdown",
   "metadata": {},
   "source": [
    "```\n",
    "public class OuterClass {\n",
    "\n",
    "    // Member variable\n",
    "    private int outerVariable = 10;\n",
    "\n",
    "    // Inner class\n",
    "    public class InnerClass {\n",
    "        // Inner class method\n",
    "        public void display() {\n",
    "            System.out.println(\"Inner class method: \" + outerVariable);\n",
    "        }\n",
    "    }\n",
    "\n",
    "    // Static nested class\n",
    "    public static class StaticNestedClass {\n",
    "        // Static nested class method\n",
    "        public void display() {\n",
    "            System.out.println(\"Static nested class method\");\n",
    "        }\n",
    "    }\n",
    "\n",
    "    public static void main(String[] args) {\n",
    "        // Create an instance of the outer class\n",
    "        OuterClass outerObj = new OuterClass();\n",
    "\n",
    "        // Create an instance of the inner class\n",
    "        InnerClass innerObj = outerObj.new InnerClass();\n",
    "\n",
    "        // Call the inner class method\n",
    "        innerObj.display();\n",
    "\n",
    "        // Create an instance of the static nested class\n",
    "        StaticNestedClass staticNestedObj = new StaticNestedClass();\n",
    "\n",
    "        // Call the static nested class method\n",
    "        staticNestedObj.display();\n",
    "    }\n",
    "}\n",
    "\n",
    "```"
   ]
  },
  {
   "cell_type": "markdown",
   "metadata": {},
   "source": [
    "- Type erasure : the process by which the generic type information is removed during compilation.\n",
    "- Raw type: is the use of a generic class or interface without specifying the type parameter `<SomeType>`."
   ]
  }
 ],
 "metadata": {
  "language_info": {
   "name": "python"
  }
 },
 "nbformat": 4,
 "nbformat_minor": 2
}
