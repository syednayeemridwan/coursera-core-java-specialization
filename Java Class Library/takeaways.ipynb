{
 "cells": [
  {
   "cell_type": "markdown",
   "metadata": {},
   "source": [
    "# Week 1"
   ]
  },
  {
   "cell_type": "markdown",
   "metadata": {},
   "source": [
    "- get name of class : `obj.getClass().getName();`\n",
    "- Always use Interface to deal with generics (Best polymorphic rule)\n",
    "    - eg: `InterfaceName<T> varName = new ClassName <>();`\n",
    "- There is no generic at runtime. Because, at tuntime, they are the same class.\n",
    "- Generic is only at compile time to enforce rule of type safety."
   ]
  },
  {
   "cell_type": "markdown",
   "metadata": {},
   "source": [
    "### Generic"
   ]
  },
  {
   "cell_type": "markdown",
   "metadata": {},
   "source": [
    "- Generics : Enforce rule on objects to allow type-safety on objects during compile time\n"
   ]
  },
  {
   "cell_type": "markdown",
   "metadata": {},
   "source": [
    "```\n",
    "// Generic interface\n",
    "interface BoxInterface<T> {\n",
    "    void setValue(T value);\n",
    "    T getValue();\n",
    "}\n",
    "\n",
    "// Generic class implementing the BoxInterface with T\n",
    "class Box<T> implements BoxInterface<T> {\n",
    "    private T value;\n",
    "\n",
    "    @Override\n",
    "    public void setValue(T value) {\n",
    "        this.value = value;\n",
    "    }\n",
    "\n",
    "    @Override\n",
    "    public T getValue() {\n",
    "        return value;\n",
    "    }\n",
    "}\n",
    "\n",
    "public class Main {\n",
    "    public static void main(String[] args) {\n",
    "        // Using T \n",
    "        Box<String> stringBox = new Box<>();\n",
    "        stringBox.setValue(\"Hello, Generics!\");\n",
    "        String stringValue = stringBox.getValue();\n",
    "\n",
    "        // Using ? (wildcard) with Interface\n",
    "        BoxInterface<?> wildcardBox = stringBox;\n",
    "        // wildcardBox.setValue(\"This won't compile\"); // We cannot set value of unknown type\n",
    "        Object wildcardValue = wildcardBox.getValue(); // We can only cast value to Object type\n",
    "\n",
    "        // Using ? extends T (upper bounded wildcard) with Interface\n",
    "        // Focus type : the type on the right side of extend\n",
    "        BoxInterface<? extends String> upperBoundedWildcardBox = stringBox;\n",
    "        // upperBoundedWildcardBox.setValue(\"This won't compile\"); // We cannot set value of unknown type\n",
    "        String upperBoundedWildcardValue = upperBoundedWildcardBox.getValue(); // We can only cast value to Parent type, String in this case\n",
    "\n",
    "        // Using ? super T (loower bounded wildcard) with Interface\n",
    "        // Focus type : the type on the left side of super\n",
    "        BoxInterface<? super String> lowerBoundedWildcardBox = new Box<>();\n",
    "        lowerBoundedWildcardBox.setValue(\"Lower Bounded Wildcard\");  // We can set value to parent type, String in this case\n",
    "        Object lowerBoundedWildcardValue = lowerBoundedWildcardBox.getValue(); // We can only cast value to Parent type, Object in this case\n",
    "    }\n",
    "}\n",
    "```"
   ]
  },
  {
   "cell_type": "markdown",
   "metadata": {},
   "source": [
    "### Generic Method"
   ]
  },
  {
   "cell_type": "markdown",
   "metadata": {},
   "source": [
    "```\n",
    "// Generic method example 1\n",
    "<T> void fromArrayToCollection(T[] a, Collection<T> c){\n",
    "    for (T o: a){\n",
    "        c.add(o);\n",
    "    }\n",
    "}\n",
    "\n",
    "// Generic method example 2\n",
    "public static <T extends SomeClass & SomeInterface> methodName(T o){\n",
    "    o.setterMethod(123);\n",
    "}\n",
    "\n",
    "// Generic method example 3\n",
    "public static <T> Stack <T> loadFromArray(Object[] arr, Class<T> type){\n",
    "    Stack <T> stack = new StackArray<>(arr.length);\n",
    "    for (Object o:arr){\n",
    "        if (type.isInstance(o)){\n",
    "            stack.push( (T) o); // type checking with \"isInstance\" and casting. \"instanceof\" will not work here.\n",
    "        }\n",
    "    }\n",
    "}\n",
    "<Car> c = loadFromArray(object_arr_of_cars, Car.class);\n",
    "\n",
    "\n",
    "```"
   ]
  },
  {
   "cell_type": "markdown",
   "metadata": {},
   "source": [
    "### Nested Class"
   ]
  },
  {
   "cell_type": "markdown",
   "metadata": {},
   "source": [
    "```\n",
    "public class OuterClass {\n",
    "\n",
    "    // Member variable\n",
    "    private int outerVariable = 10;\n",
    "\n",
    "    // Inner class\n",
    "    public class InnerClass {\n",
    "        // Inner class method\n",
    "        public void display() {\n",
    "            System.out.println(\"Inner class method: \" + outerVariable);\n",
    "        }\n",
    "    }\n",
    "\n",
    "    // Static nested class\n",
    "    public static class StaticNestedClass {\n",
    "        // Static nested class method\n",
    "        public void display() {\n",
    "            System.out.println(\"Static nested class method\");\n",
    "        }\n",
    "    }\n",
    "\n",
    "    public static void main(String[] args) {\n",
    "        // Create an instance of the outer class\n",
    "        OuterClass outerObj = new OuterClass();\n",
    "\n",
    "        // Create an instance of the inner class\n",
    "        InnerClass innerObj = outerObj.new InnerClass();\n",
    "\n",
    "        // Call the inner class method\n",
    "        innerObj.display();\n",
    "\n",
    "        // Create an instance of the static nested class\n",
    "        StaticNestedClass staticNestedObj = new StaticNestedClass();\n",
    "\n",
    "        // Call the static nested class method\n",
    "        staticNestedObj.display();\n",
    "    }\n",
    "}\n",
    "\n",
    "```"
   ]
  },
  {
   "cell_type": "markdown",
   "metadata": {},
   "source": [
    "- Type erasure : the process by which the generic type information is removed during compilation.\n",
    "- Raw type: is the use of a generic class or interface without specifying the type parameter `<SomeType>`."
   ]
  },
  {
   "cell_type": "markdown",
   "metadata": {},
   "source": [
    "# Week 2"
   ]
  },
  {
   "cell_type": "markdown",
   "metadata": {},
   "source": [
    "### Collections"
   ]
  },
  {
   "cell_type": "markdown",
   "metadata": {},
   "source": [
    "- collections are more powerful than arrays\n",
    "- More flexible than arrays and multiple interfaces\n",
    "- generally 3 types:\n",
    "    - Sets : Exclude duplicates\n",
    "    - Lists : Allow duplicates\n",
    "    - Maps : key-value pairs\n",
    "- Iterator helps to iterate over these collections. 2 important methods:\n",
    "    - `next()` : get the next element\n",
    "    - `hasNext()` : if it has any element next\n",
    "    - When iterator is generated on a collection, changing or removing the content in that collection directly may cause runtime error\n",
    "        - solution : Use the generated iterators remove method to remove that content \n",
    "- Cannot directly hold primitives. But can use wrapper to hold prmitives.\n",
    "- declare references with the most abstract type you can on the left (Best practice)\n"
   ]
  },
  {
   "cell_type": "markdown",
   "metadata": {},
   "source": [
    "### Collections and implementations"
   ]
  },
  {
   "cell_type": "markdown",
   "metadata": {},
   "source": [
    "- `HashMap` : fast, no guarantee of order, allows `null` values and one `null` key\n",
    "- `TreeMap` : Slower than `HashMap`, Guarantees sorted order of keys.\n",
    "- `LinkedHashMap` : Guarantees ordering in which entries were added.\n",
    "- `ConcurrentHashMap` : optimized for multithreaded environment.\n",
    "- `ArrayList` : Random access, fast only for appending at the end, Not suitable for frequent insertions or removals.\n",
    "- `LinkedList` : Slower than `ArrayList`, suitable for frequent insertions or removals.\n",
    "- `Vector` : Synchronized, making it thread-safe, older version of `ArrayList`\n",
    "- `HashSet` : fast, no guarantee of order\n",
    "- `TreeSet` : Slower than `HashSet`, Guarantees sorted order of elements.\n",
    "- `LinkedHashSet` : Guarantees ordering in which entries were added.\n",
    "- `EnumSet` : Optimized for `enum`\n"
   ]
  },
  {
   "cell_type": "markdown",
   "metadata": {},
   "source": [
    "### List and Set"
   ]
  },
  {
   "cell_type": "markdown",
   "metadata": {},
   "source": [
    "```\n",
    "import java.util.*;\n",
    "\n",
    "public class CollectionExample {\n",
    "    public static void main(String[] args) {\n",
    "        // Set Example\n",
    "        Set<String> setExample = new HashSet<>();\n",
    "        setExample.add(\"Apple\");\n",
    "        setExample.add(\"Banana\");\n",
    "        setExample.add(\"Orange\");\n",
    "\n",
    "        // iterating through set\n",
    "        Iterator<String> setIterator = setExample.iterator();\n",
    "        while (setIterator.hasNext()) {\n",
    "            System.out.println(setIterator.next());\n",
    "        }\n",
    "        // Alternative iteration\n",
    "        for (String item : setExample) {\n",
    "            System.out.println(item);\n",
    "        }\n",
    "\n",
    "        // List Example\n",
    "        List<Integer> listExample = new ArrayList<>();\n",
    "        listExample.add(10);\n",
    "        listExample.add(20);\n",
    "        listExample.add(30);\n",
    "\n",
    "        // iterating through List\n",
    "        Iterator<Integer> listIterator = listExample.iterator();\n",
    "        while (listIterator.hasNext()) {\n",
    "            System.out.println(listIterator.next());\n",
    "        }\n",
    "        // Alternative iteration\n",
    "        for (Integer value : listExample) {\n",
    "            System.out.println(value);\n",
    "        }\n",
    "\n",
    "        // Map Example\n",
    "        Map<String, Integer> mapExample = new HashMap<>();\n",
    "        mapExample.put(\"One\", 1);\n",
    "        mapExample.put(\"Two\", 2);\n",
    "        mapExample.put(\"Three\", 3);\n",
    "\n",
    "        // iterating through Map\n",
    "        Iterator<Map.Entry<String, Integer>> mapIterator = mapExample.entrySet().iterator();\n",
    "        while (mapIterator.hasNext()) {\n",
    "            Map.Entry<String, Integer> entry = mapIterator.next();\n",
    "            System.out.println(entry.getKey() + \": \" + entry.getValue());\n",
    "        }\n",
    "        // Alternative iteration\n",
    "        for (Map.Entry<String, Integer> entry : mapExample.entrySet()) {\n",
    "            System.out.println(entry.getKey() + \": \" + entry.getValue());\n",
    "        }\n",
    "    }\n",
    "}\n",
    "\n",
    "```"
   ]
  },
  {
   "cell_type": "markdown",
   "metadata": {},
   "source": [
    "### Map"
   ]
  },
  {
   "cell_type": "markdown",
   "metadata": {},
   "source": [
    "```\n",
    "import java.util.HashMap;\n",
    "import java.util.Map;\n",
    "\n",
    "public class MapForEachExample {\n",
    "    public static void main(String[] args) {\n",
    "        // Creating a Map\n",
    "        Map<String, Integer> populationMap = new HashMap<>();\n",
    "        populationMap.put(\"New York\", 8419600);\n",
    "        populationMap.put(\"Los Angeles\", 3990456);\n",
    "        populationMap.put(\"Chicago\", 2716000);\n",
    "        populationMap.put(\"Houston\", 2328074);\n",
    "        populationMap.put(\"Phoenix\", 1680992);\n",
    "\n",
    "        // Using forEach with Map.Entry\n",
    "        populationMap.forEach((key, value) -> System.out.println(\"Key: \" + key + \", Value: \" + value));\n",
    "        // Alternative : for-each with Entry and entrySet()\n",
    "        for (Map.Entry<String, Integer> entry : populationMap.entrySet()) {\n",
    "            System.out.println(\"Key: \" + entry.getKey() + \", Value: \" + entry.getValue());\n",
    "        }\n",
    "\n",
    "        //Using forEach with method reference\n",
    "        System.out.println(\"\\nUsing forEach with method reference:\");\n",
    "        populationMap.forEach(MapForEachExample::printEntry);\n",
    "        // Alternative : normal for-each loop\n",
    "        Set<String> mapKeys = populationMap.keySet(); // contains all keys of the map\n",
    "        List<Integer> mapValues = populationMap.values(); // contains all values of the map\n",
    "        for (Integer key : mapKeys) {\n",
    "            System.out.println(\"Value: \" + value);\n",
    "        }\n",
    "        for (Integer value : mapValues) {\n",
    "            System.out.println(\"Value: \" + value);\n",
    "        }\n",
    "\n",
    "    }\n",
    "\n",
    "    private static void printEntry(String key, Integer value) {\n",
    "        System.out.println(\"Key: \" + key + \", Value: \" + value);\n",
    "    }\n",
    "}\n",
    "\n",
    "```"
   ]
  },
  {
   "cell_type": "markdown",
   "metadata": {},
   "source": [
    "### Functional Programming"
   ]
  },
  {
   "cell_type": "markdown",
   "metadata": {},
   "source": [
    "```\n",
    "import java.util.function.Function;\n",
    "\n",
    "public class FunctionalProgrammingExample {\n",
    "\n",
    "    public static void main(String[] args) {\n",
    "        // Functional interfaces are interfaces designed for a single function and provide ways for specific functional behaviors\n",
    "        //  Example 1 : Consumer functional interface  (a void function, to be fair)\n",
    "\n",
    "        Consumer<String> myConsumer = (message) -> {System.out.println(\"Consumer: \" + message)}; //Takes input as String, produces no output\n",
    "        myConsumer.accept(\"Hello, Consumer!\"); // Calling the consumer\n",
    "\n",
    "\n",
    "        // Example 2 : Runable concurrent functional interface  \n",
    "        Runnable myRunnable = () -> {\n",
    "            for (int i = 0; i < 5; i++) {\n",
    "                System.out.println(\"Runnable: \" + i);\n",
    "                }\n",
    "            };\n",
    "        Thread myThread = new Thread(myRunnable);\n",
    "        myThread.start(); // calling the runnable\n",
    "\n",
    "        // Example 3 : Chaining functional interfaces\n",
    "        \n",
    "        Function<Integer, Integer> first = x -> x + 2; // Takes input as Integers, generates output as Integers\n",
    "        Function<Integer, Integer> second = x -> x * 3; // Takes input as Integers, generates output as Integers\n",
    "        \n",
    "        // valid as long as the first functions output can be accepted as the second function's input\n",
    "      \t// Also valid for method reference in .andThen\n",
    "        Function<Integer, Integer> firstThenSecond = first.andThen(second); // Using andThen to compose a pipeline of functions \n",
    "        int result = firstThenSecond.apply(5); // Calling the composed function\n",
    "      \tfirst.andThen(System.out::println);// Calling with method reference\n",
    "    }\n",
    "}\n",
    "\n",
    "```"
   ]
  },
  {
   "cell_type": "markdown",
   "metadata": {},
   "source": [
    "### Java Stream"
   ]
  },
  {
   "cell_type": "markdown",
   "metadata": {},
   "source": [
    "```\n",
    "import java.util.Arrays;\n",
    "import java.util.List;\n",
    "\n",
    "public class StreamExample {\n",
    "    public static void main(String[] args) {\n",
    "        // Create a list of strings\n",
    "        List<String> words = Arrays.asList(\"Apple\", \"Banana\", \"Orange\", \"Avocado\", \"Grapes\");\n",
    "\n",
    "        // Use Streams to filter and print strings starting with \"A\" in uppercase\n",
    "        words.stream()\n",
    "             .filter(word -> word.startsWith(\"A\"))\n",
    "             .map(String::toUpperCase) // Convert to uppercase\n",
    "             .forEach(System.out::println); // Print each string\n",
    "    }\n",
    "}\n",
    "\n",
    "```"
   ]
  },
  {
   "cell_type": "markdown",
   "metadata": {},
   "source": [
    "# Week 3"
   ]
  },
  {
   "cell_type": "markdown",
   "metadata": {},
   "source": [
    "### Exception Handling"
   ]
  },
  {
   "cell_type": "markdown",
   "metadata": {},
   "source": [
    "```\n",
    "import java.io.BufferedReader;\n",
    "import java.io.IOException;\n",
    "\n",
    "// Define a custom exception class\n",
    "class CustomException extends Exception {\n",
    "    public CustomException(String message) {\n",
    "        super(message);\n",
    "    }\n",
    "}\n",
    "\n",
    "// Define an interface\n",
    "interface MyInterface {\n",
    "    void myMethod(int age) throws CustomException, IOException;\n",
    "}\n",
    "\n",
    "// Implement a class that uses the custom exception and implements the interface\n",
    "class MyClass implements MyInterface {\n",
    "    @Override\n",
    "    public void myMethod(int age) throws CustomException, IOException {\n",
    "        BufferedReader reader = null;\n",
    "        try {\n",
    "            // Some logic that may throw custom exception or IOException\n",
    "            if (age < 0) {\n",
    "                throw new CustomException(\"CustomException: Age cannot be negative!\");\n",
    "            }\n",
    "            // ... rest of the method's logic ...\n",
    "        } catch (CustomException ce) {\n",
    "            // Log and rethrow CustomException\n",
    "            System.err.println(\"Caught a custom exception: \" + ce.getMessage());\n",
    "            ce.printStackTrace();\n",
    "            throw ce;\n",
    "        } catch (IOException io) {\n",
    "            // Log and rethrow IOException\n",
    "            System.err.println(\"Caught an IOException: \" + io.getMessage());\n",
    "            io.printStackTrace();\n",
    "            throw io;\n",
    "        } catch (Exception e) {\n",
    "            // Log and rethrow generic Exception\n",
    "            System.err.println(\"Caught a generic exception: \" + e.getMessage());\n",
    "            e.printStackTrace();\n",
    "            throw e;\n",
    "        } finally {\n",
    "            // Close resources in the finally block\n",
    "            if (reader != null) {\n",
    "                try {\n",
    "                    reader.close();\n",
    "                    System.out.println(\"BufferedReader closed in the finally block\");\n",
    "                } catch (IOException e) {\n",
    "                    System.err.println(\"Exception while closing BufferedReader: \" + e.getMessage());\n",
    "                    e.printStackTrace();\n",
    "                }\n",
    "            }\n",
    "        }\n",
    "    }\n",
    "}\n",
    "\n",
    "// Main class\n",
    "public class Main {\n",
    "    public static void main(String[] args) {\n",
    "        // Instantiate and use the class\n",
    "        MyClass myInstance = new MyClass();\n",
    "        try {\n",
    "            myInstance.myMethod(-5); // Example with a negative age\n",
    "        } catch (CustomException | IOException | Exception e) {\n",
    "            // Handle the exception if needed\n",
    "            System.out.println(\"Exception caught in the main method: \" + e.getMessage());\n",
    "            e.printStackTrace();\n",
    "        }\n",
    "    }\n",
    "}\n",
    "\n",
    "```"
   ]
  },
  {
   "cell_type": "markdown",
   "metadata": {},
   "source": [
    "### Java Garbage Collection"
   ]
  },
  {
   "cell_type": "markdown",
   "metadata": {},
   "source": [
    "```\n",
    "System.runFinalization();\n",
    "Runtime.getRuntime().gc();\n",
    "System.gc();\n",
    "```"
   ]
  },
  {
   "cell_type": "markdown",
   "metadata": {},
   "source": [
    "# Week 4"
   ]
  },
  {
   "cell_type": "markdown",
   "metadata": {},
   "source": [
    "### Java I/O"
   ]
  },
  {
   "cell_type": "markdown",
   "metadata": {},
   "source": [
    "- Use java NIO for scalability\n",
    "- Use Buffers for reading/writing for efficiency\n",
    "\n"
   ]
  },
  {
   "cell_type": "markdown",
   "metadata": {},
   "source": [
    "### Properties file"
   ]
  },
  {
   "cell_type": "markdown",
   "metadata": {},
   "source": [
    "```\n",
    "/***** This filename is config.properties\n",
    "# Database configuration\n",
    "db.url=jdbc:mysql://localhost:3306/mydatabase\n",
    "db.username=admin\n",
    "db.password=secret\n",
    "\n",
    "# Server configuration\n",
    "server.port=8080\n",
    "server.host=localhost\n",
    "*/\n",
    "import java.io.FileInputStream;\n",
    "import java.io.IOException;\n",
    "import java.util.Properties;\n",
    "\n",
    "public class PropertyFileReader {\n",
    "    public static void main(String[] args) {\n",
    "        Properties properties = new Properties();\n",
    "\n",
    "        try (FileInputStream input = new FileInputStream(\"config.properties\")) {\n",
    "            // Load the properties file\n",
    "            properties.load(input);\n",
    "\n",
    "            // Retrieve values\n",
    "            String dbUrl = properties.getProperty(\"db.url\");\n",
    "            String dbUsername = properties.getProperty(\"db.username\");\n",
    "            String dbPassword = properties.getProperty(\"db.password\");\n",
    "\n",
    "            // Display values\n",
    "            System.out.println(\"Database URL: \" + dbUrl);\n",
    "            System.out.println(\"Database Username: \" + dbUsername);\n",
    "            System.out.println(\"Database Password: \" + dbPassword);\n",
    "        } catch (IOException e) {\n",
    "            e.printStackTrace();\n",
    "        }\n",
    "    }\n",
    "}\n",
    "```"
   ]
  },
  {
   "cell_type": "markdown",
   "metadata": {},
   "source": []
  }
 ],
 "metadata": {
  "language_info": {
   "name": "python"
  }
 },
 "nbformat": 4,
 "nbformat_minor": 2
}
