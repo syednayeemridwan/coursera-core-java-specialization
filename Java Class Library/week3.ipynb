{
 "cells": [
  {
   "cell_type": "markdown",
   "metadata": {},
   "source": [
    "# Adding a custom exception"
   ]
  },
  {
   "cell_type": "markdown",
   "metadata": {},
   "source": [
    "### Creating the Exception class"
   ]
  },
  {
   "cell_type": "markdown",
   "metadata": {},
   "source": [
    "- Add `throws ExceptionName {` after the method declaration\n",
    "- Click `Create class` to create the custom exception\n",
    "- To see what constructors of superclass you can override, you can click `constructors from superclass`\n",
    "- Only keep the constructor that you need and delete other overriden constructors\n",
    "\n",
    "<center><img src=\"images/03.01.png\"  style=\"width: 400px, height: 300px;\"/></center>\n",
    "<center><img src=\"images/03.02.png\"  style=\"width: 400px, height: 300px;\"/></center>\n",
    "<center><img src=\"images/03.03.png\"  style=\"width: 400px, height: 300px;\"/></center>\n",
    "<center><img src=\"images/03.04.png\"  style=\"width: 400px, height: 300px;\"/></center>\n",
    "<center><img src=\"images/03.09.png\"  style=\"width: 400px, height: 300px;\"/></center>\n",
    "\n"
   ]
  },
  {
   "cell_type": "markdown",
   "metadata": {},
   "source": [
    "### Fixing issue with Interface"
   ]
  },
  {
   "cell_type": "markdown",
   "metadata": {},
   "source": [
    "- If you add `throws SomeException` to a method and if that method was also declared in an interface, you need to add `throws SomeException` in the method signature of the interface as well\n",
    "- Other `default` methods that use that method may be resolved by surrounding with try-catch\n",
    "\n",
    "<center><img src=\"images/03.05.png\"  style=\"width: 400px, height: 300px;\"/></center>\n",
    "<center><img src=\"images/03.06.png\"  style=\"width: 400px, height: 300px;\"/></center>\n",
    "<center><img src=\"images/03.07.png\"  style=\"width: 400px, height: 300px;\"/></center>\n",
    "<center><img src=\"images/03.08.png\"  style=\"width: 400px, height: 300px;\"/></center>\n"
   ]
  },
  {
   "cell_type": "markdown",
   "metadata": {},
   "source": [
    "### `throws` "
   ]
  },
  {
   "cell_type": "markdown",
   "metadata": {},
   "source": [
    "- `throws` : All setter methods and constructors should have `throws ExceptionName` signature\n",
    "<center><img src=\"images/03.11.png\"  style=\"width: 400px, height: 300px;\"/></center>\n",
    "<center><img src=\"images/03.12.png\"  style=\"width: 400px, height: 300px;\"/></center>\n"
   ]
  },
  {
   "cell_type": "markdown",
   "metadata": {},
   "source": [
    "### `try-catch`"
   ]
  },
  {
   "cell_type": "markdown",
   "metadata": {},
   "source": [
    "- `try-catch` : All implementation blocks that can cause error should be surrounded with try-catch block\n",
    "<center><img src=\"images/03.10.png\"  style=\"width: 400px, height: 300px;\"/></center>\n"
   ]
  },
  {
   "cell_type": "markdown",
   "metadata": {},
   "source": [
    "# Checked vs Unchecked Exceptions"
   ]
  },
  {
   "cell_type": "markdown",
   "metadata": {},
   "source": [
    "- Checked exceptions : Must be handled or rethrown before running the program. eg: Custom exceptions\n",
    "- Unchecked exceptions : Are caught during runtime. eg: all errors and null exceptions\n",
    "<center><img src=\"images/03.13.png\"  style=\"width: 400px, height: 300px;\"/></center>\n"
   ]
  },
  {
   "cell_type": "markdown",
   "metadata": {},
   "source": [
    "### `e.printStackTrace()`"
   ]
  },
  {
   "cell_type": "markdown",
   "metadata": {},
   "source": [
    "- Shows what exception a code block throws\n",
    "- Shows the message of the exception\n",
    "- Shows link where you can click and go to the code where the exception occurs\n",
    "<center><img src=\"images/03.14.png\"  style=\"width: 400px, height: 300px;\"/></center>\n",
    "\n"
   ]
  },
  {
   "cell_type": "markdown",
   "metadata": {},
   "source": [
    "# Finally Block"
   ]
  },
  {
   "cell_type": "markdown",
   "metadata": {},
   "source": [
    "- Used to execute after catching the exception\n",
    "- Includes teardown code so that if any exception occurs after opening a resource, the resource must be closed in the finally block"
   ]
  },
  {
   "cell_type": "markdown",
   "metadata": {},
   "source": [
    "```\n",
    "import java.sql.Connection;\n",
    "import java.sql.DriverManager;\n",
    "import java.sql.PreparedStatement;\n",
    "import java.sql.ResultSet;\n",
    "import java.sql.SQLException;\n",
    "\n",
    "public class TryCatchFinallyExample {\n",
    "\n",
    "    private static Connection databaseConnection;\n",
    "\n",
    "    public static void main(String[] args) {\n",
    "        try {\n",
    "            // Code that may throw an exception\n",
    "            initializeDatabaseConnection();\n",
    "\n",
    "            // Perform a database operation (e.g., retrieve data)\n",
    "            String query = \"SELECT * FROM your_table\";\n",
    "            try (PreparedStatement preparedStatement = databaseConnection.prepareStatement(query);\n",
    "                 ResultSet resultSet = preparedStatement.executeQuery()) {\n",
    "\n",
    "                // Process the result set (simulated)\n",
    "                while (resultSet.next()) {\n",
    "                    System.out.println(\"ID: \" + resultSet.getInt(\"id\") +\n",
    "                            \", Name: \" + resultSet.getString(\"name\"));\n",
    "                }\n",
    "            }\n",
    "\n",
    "        } catch (SQLException e) {\n",
    "            // Catch block: Handle the exception\n",
    "            System.err.println(\"Error executing database operation: \" + e.getMessage());\n",
    "        } finally {\n",
    "            // Finally block: Always executed, regardless of whether an exception occurred or not\n",
    "            System.out.println(\"Finally block executed\");\n",
    "\n",
    "            // Teardown or cleanup code\n",
    "            closeDatabaseConnection();\n",
    "        }\n",
    "    }\n",
    "\n",
    "    // Initialize database connection (simulated)\n",
    "    private static void initializeDatabaseConnection() {\n",
    "        try {\n",
    "            // Simulate opening a database connection\n",
    "            Class.forName(\"com.mysql.cj.jdbc.Driver\");\n",
    "            String url = \"jdbc:mysql://localhost:3306/your_database\";\n",
    "            String user = \"your_username\";\n",
    "            String password = \"your_password\";\n",
    "            databaseConnection = DriverManager.getConnection(url, user, password);\n",
    "            System.out.println(\"Database connection opened\");\n",
    "        } catch (ClassNotFoundException | SQLException e) {\n",
    "            // Handle exceptions\n",
    "            e.printStackTrace();\n",
    "        }\n",
    "    }\n",
    "\n",
    "    // Teardown or cleanup method\n",
    "    private static void closeDatabaseConnection() {\n",
    "        System.out.println(\"Closing database connection...\");\n",
    "\n",
    "        // Simulate closing a database connection\n",
    "        if (databaseConnection != null) {\n",
    "            try {\n",
    "                databaseConnection.close();\n",
    "                System.out.println(\"Database connection closed\");\n",
    "            } catch (SQLException e) {\n",
    "                // Handle exceptions\n",
    "                e.printStackTrace();\n",
    "            }\n",
    "        }\n",
    "    }\n",
    "}\n",
    "\n",
    "```"
   ]
  },
  {
   "cell_type": "markdown",
   "metadata": {},
   "source": [
    "# Try with Resource"
   ]
  },
  {
   "cell_type": "markdown",
   "metadata": {},
   "source": [
    "- Sometimes `finally` block is forgotten to include. In that case we need to provide pythonlike context manager operation so that the resources are automatically closed after execution of `try` when exception occurs.\n",
    "- Include the resource within `try(your_resource_here){}`"
   ]
  },
  {
   "cell_type": "markdown",
   "metadata": {},
   "source": [
    "```\n",
    "import java.io.BufferedReader;\n",
    "import java.io.FileReader;\n",
    "import java.io.IOException;\n",
    "\n",
    "public class TryWithResourcesExample {\n",
    "\n",
    "    public static void main(String[] args) {\n",
    "        // Specify the file path\n",
    "        String filePath = \"path/to/your/file.txt\";\n",
    "\n",
    "        // Use try-with-resources to automatically close the BufferedReader\n",
    "        try (BufferedReader br = new BufferedReader(new FileReader(filePath))) {\n",
    "            // Read lines from the file\n",
    "            String line;\n",
    "            while ((line = br.readLine()) != null) {\n",
    "                System.out.println(line);\n",
    "            }\n",
    "        } catch (IOException e) {\n",
    "            // Handle exceptions (file not found, read error, etc.)\n",
    "            e.printStackTrace();\n",
    "        }\n",
    "    }\n",
    "}\n",
    "\n",
    "```"
   ]
  },
  {
   "cell_type": "markdown",
   "metadata": {},
   "source": [
    "# Exception Best Practices"
   ]
  },
  {
   "cell_type": "markdown",
   "metadata": {},
   "source": [
    "- If there is any problem in the code, always address the problem with exception\n",
    "- Always provide details of exception in the message so that the reason of exception can be easily understood\n",
    "- Never use generic `Exception` . Instead always specify specific Exception (eg: `IOException`) to address proper exception.\n",
    "- `Exception` should be in the last catch block, so that if any other exception that misses the specific exception block can be tracked.\n",
    "- If any `Catch` block uses the exception for any other purpose (eg: for logging), do not forget to rethrow that exception to be caught later\n",
    "- Create custom exception if needed\n",
    "- If any method has possibility of throwing any exception, include in the design beforehand. If any interface declared that method, then also include the `methodName() throws ExceptionName;` keywords in there as well\n",
    "- Always try to include `finally` for try with resource is generally not used"
   ]
  }
 ],
 "metadata": {
  "language_info": {
   "name": "python"
  }
 },
 "nbformat": 4,
 "nbformat_minor": 2
}
