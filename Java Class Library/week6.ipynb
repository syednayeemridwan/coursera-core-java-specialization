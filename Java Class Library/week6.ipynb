{
 "cells": [
  {
   "cell_type": "markdown",
   "metadata": {},
   "source": [
    "# Why Annotation"
   ]
  },
  {
   "cell_type": "markdown",
   "metadata": {},
   "source": [
    "- A way to attach independent metadata with java code\n",
    "- It has no impact on java code, but it carries some information for those who might access the java code\n",
    "- Annotation gives the accessor some information outside the java code\n",
    "    - During compile time (`@Retention(RetentionPolicy.CLASS)`)\n",
    "    - During runtime (`@Retention(RetentionPolicy.RUNTIME)`)\n",
    "    - In source (`@Retention(RetentionPolicy.SOURCE)`)\n",
    "- There are systems where it is needed to initialize environment settings to run the java code. annotations are sticked with that java code for using the code in the specified settings.\n",
    "- It can be added to:\n",
    "    - Classes, interfaces, or enum declarations (`@Target(ElementType.TYPE)`)\n",
    "    - Method declarations (`@Target(ElementType.METHOD)`)\n",
    "    - Field declarations (`@Target(ElementType.FIELD)`)\n",
    "    - Constructor declarations (`@Target(ElementType.CONSTRUCTOR)`)\n",
    "    - package declarations (`@Target(ElementType.PACKAGE)`)\n",
    "    - package declarations (`@Target(ElementType.PARAMETER)`)\n",
    "- examples:\n",
    "    - Suppress warnings, detect errors in compilers\n",
    "    - Provide boilerplate code support if specified proper settings (eg: Spring)\n",
    "    - Provide dependency of resources / services\n",
    "- Types of annotations:\n",
    "    - annotation without parameters (eg: `@Override`, `@Deprecated`)\n",
    "    - annotation with single value (eg: `@Target(ElementType.Method)`, `@SuppressWarnings(\"unused\")`)\n",
    "    - annotation with multiple parameters (key-value pairs) (eg: `@MyAnnotation(name=\"ABC\",age=10)`)\n",
    "- Application level : always above the specified level\n",
    "    - class level\n",
    "    - method level\n",
    "    - variable level\n",
    "-  Combining annotations: `@SuppressWarnings({\"unused\",\"unchecked\"})`\n",
    "- Meta annotation : Annotation of annotations (Passive information and cherecteristics about annotations during declaration)\n",
    "    - Documentation of annotations ( `@Documented`)\n",
    "    - Where is an annotation attached (`@Target`)\n",
    "    - Where the annotation is visible (`@Retention`)\n",
    "    - Make annotations available to subclass (`@Inherited`)\n",
    "    - Repeatation of an annotation multiple times (`@Repeatable`)"
   ]
  },
  {
   "cell_type": "markdown",
   "metadata": {},
   "source": [
    "# Annotation example that suppress compiler warnings"
   ]
  },
  {
   "cell_type": "markdown",
   "metadata": {},
   "source": [
    "<center><img src=\"images/06.02.png\"  style=\"width: 400px, height: 300px;\"/></center>\n"
   ]
  },
  {
   "cell_type": "markdown",
   "metadata": {},
   "source": [
    "# Use of annotation on a class"
   ]
  },
  {
   "cell_type": "markdown",
   "metadata": {},
   "source": [
    "<center><img src=\"images/06.01.png\"  style=\"width: 400px, height: 300px;\"/></center>"
   ]
  }
 ],
 "metadata": {
  "language_info": {
   "name": "python"
  }
 },
 "nbformat": 4,
 "nbformat_minor": 2
}
