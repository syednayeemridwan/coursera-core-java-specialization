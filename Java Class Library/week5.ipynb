{
 "cells": [
  {
   "cell_type": "markdown",
   "metadata": {},
   "source": [
    "# Why enum"
   ]
  },
  {
   "cell_type": "markdown",
   "metadata": {},
   "source": [
    "- Container for fixed set of constant values / instances (A set of singletons)\n",
    "- Uses the advantage of private constructor to create read-only values inside.\n",
    "- Elimitates usage of so many `final` keywords to create constant variables\n",
    "- Provides type-safety \n",
    "- Implicitly `static`, so access members using ClassName\n",
    "- cannot be extended\n",
    "- Declare instances inside the `enum` separated by comma\n"
   ]
  },
  {
   "cell_type": "markdown",
   "metadata": {},
   "source": [
    "### Simple enum example"
   ]
  },
  {
   "cell_type": "markdown",
   "metadata": {},
   "source": [
    "```\n",
    "public class EnumExample {\n",
    "\n",
    "    enum Color {\n",
    "        RED, GREEN, BLUE\n",
    "    }\n",
    "\n",
    "    public static void main(String[] args) {\n",
    "        // Get the third value (index 2) in the Color enum\n",
    "        Color thirdColor = Color.values()[2];\n",
    "\n",
    "        // Print the third color\n",
    "        System.out.println(\"Third color: \" + thirdColor);\n",
    "    }\n",
    "}\n",
    "\n",
    "```"
   ]
  },
  {
   "cell_type": "markdown",
   "metadata": {},
   "source": [
    "### Enum as a class"
   ]
  },
  {
   "cell_type": "markdown",
   "metadata": {},
   "source": [
    "```\n",
    "// Direction.java\n",
    "public enum Direction {\n",
    "    EAST(\"East\", 42),\n",
    "    WEST(\"West\", 30),\n",
    "    NORTH(\"North\", 25),\n",
    "    SOUTH(\"South\", 20);\n",
    "\n",
    "    private final String name;\n",
    "    private final int windSpeed;\n",
    "\n",
    "    private Direction(String name, int windSpeed) {\n",
    "        this.name = name;\n",
    "        this.windSpeed = windSpeed;\n",
    "    }\n",
    "\n",
    "    public String getName() {\n",
    "        return name;\n",
    "    }\n",
    "\n",
    "    public int getWindSpeed() {\n",
    "        return windSpeed;\n",
    "    }\n",
    "\n",
    "    // Method to create a new instance with changed wind speed (NOT RECOMMENDED)\n",
    "    public Direction changeWindSpeed(int newWindSpeed) {\n",
    "        return new Direction(name, newWindSpeed);\n",
    "    }\n",
    "}\n",
    "\n",
    "\n",
    "// Main.java\n",
    "public class Main {\n",
    "    public static void main(String[] args) {\n",
    "        // Using the enum\n",
    "        Direction currentDirection = Direction.EAST;\n",
    "\n",
    "        // Accessing methods\n",
    "        System.out.println(\"Current direction is \" + currentDirection.getName());\n",
    "        System.out.println(\"Wind speed is \" + currentDirection.getWindSpeed() + \" mph\");\n",
    "\n",
    "        // Using the method to change wind speed \n",
    "        Direction newDirection = currentDirection.changeWindSpeed(50);\n",
    "        System.out.println(\"New direction is \" + newDirection.getName());\n",
    "        System.out.println(\"New wind speed is \" + newDirection.getWindSpeed() + \" mph\");\n",
    "        \n",
    "    }\n",
    "}\n",
    "\n",
    "```"
   ]
  }
 ],
 "metadata": {
  "language_info": {
   "name": "python"
  }
 },
 "nbformat": 4,
 "nbformat_minor": 2
}
