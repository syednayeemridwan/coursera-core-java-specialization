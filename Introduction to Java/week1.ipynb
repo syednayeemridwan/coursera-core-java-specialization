{
 "cells": [
  {
   "cell_type": "markdown",
   "metadata": {},
   "source": [
    "# Java Benefits"
   ]
  },
  {
   "cell_type": "markdown",
   "metadata": {},
   "source": [
    "- Write once run anywhere\n",
    "- Object-oriented\n",
    "- Familiar C/C++ synttax\n",
    "- Rich libraries\n",
    "- Security\n",
    "- Performance\n",
    "- Internationalization (uses Unicode)\n",
    "- Free\n",
    "- Continuous evolution"
   ]
  },
  {
   "cell_type": "markdown",
   "metadata": {},
   "source": [
    "# Why Cross platform"
   ]
  },
  {
   "cell_type": "markdown",
   "metadata": {},
   "source": [
    "- When we write java code, it is first compiled into bytecode for JVM\n",
    "- The task of the JVM is to detect the machine it is on and then translate the bytecode into native code\n",
    "- The translation into native machine code happens during runtime with the help of JRE \n",
    "- The more the code is executed, the more the optimization of the code takes place (This is the JIT process)"
   ]
  },
  {
   "cell_type": "markdown",
   "metadata": {},
   "source": [
    "<center><img src=\"images/01.png\"  style=\"width: 400px, height: 300px;\"/></center>"
   ]
  },
  {
   "cell_type": "markdown",
   "metadata": {},
   "source": [
    "# Java Package"
   ]
  },
  {
   "cell_type": "markdown",
   "metadata": {},
   "source": [
    "- Container for related classes (packages help to group classes into meaningful manners)\n",
    "- concept of windows directories in java (whille windows use `/` java use `.`)\n",
    "    - example: `com.abc.calculator.util` means `com` directory has child directory `abc`, which has another child directory `calculator` and so on.\n",
    "- helps to avoid naming collission\n"
   ]
  },
  {
   "cell_type": "markdown",
   "metadata": {},
   "source": [
    "# JDBC"
   ]
  },
  {
   "cell_type": "markdown",
   "metadata": {},
   "source": [
    "- Java Database Package\n",
    "- Allows database operations with a relational database\n",
    "- Same query, different driver for different RDBMS"
   ]
  },
  {
   "cell_type": "markdown",
   "metadata": {},
   "source": [
    "<center><img src=\"images/02.png\"  style=\"width: 400px, height: 300px;\"/></center>\n"
   ]
  },
  {
   "cell_type": "markdown",
   "metadata": {},
   "source": [
    "# Java Versions"
   ]
  },
  {
   "cell_type": "markdown",
   "metadata": {},
   "source": [
    "The enterprise edition contains:\n",
    "- The standard edition\n",
    "- Java Servlets and Java Server Pages (JSP)\n",
    "- Enterprise Java Beans (EJB)\n",
    "- Java Messaging Service (JMS)\n",
    "- and so on..."
   ]
  },
  {
   "cell_type": "markdown",
   "metadata": {},
   "source": [
    "<center><img src=\"images/05.png\"  style=\"width: 400px, height: 300px;\"/></center>\n",
    "<center><img src=\"images/03.png\"  style=\"width: 400px, height: 300px;\"/></center>\n",
    "<center><img src=\"images/04.png\"  style=\"width: 400px, height: 300px;\"/></center>\n"
   ]
  },
  {
   "cell_type": "markdown",
   "metadata": {},
   "source": [
    "# Key Tools"
   ]
  },
  {
   "cell_type": "markdown",
   "metadata": {},
   "source": [
    "- `javac` = compiler (resides in `jdk/bin` )\n",
    "- `java` = run from entry point (resides in `jdk/jre/bin` and `jdk/bin`)\n",
    "- `javadoc` = for documentation\n",
    "- `jdb` = for debugging\n",
    "- most libraries are part of JRE (resides in `jdk/jre/lib`)"
   ]
  },
  {
   "cell_type": "markdown",
   "metadata": {},
   "source": [
    "# Recommended to download JDK from"
   ]
  },
  {
   "cell_type": "markdown",
   "metadata": {},
   "source": [
    "- download from : https://adoptopenjdk.net/\n",
    "- check version from command line : `java -version`"
   ]
  },
  {
   "cell_type": "markdown",
   "metadata": {},
   "source": [
    "<center><img src=\"images/06.png\"  style=\"width: 400px, height: 300px;\"/></center>\n"
   ]
  },
  {
   "cell_type": "markdown",
   "metadata": {},
   "source": [
    "# Running java files"
   ]
  },
  {
   "cell_type": "markdown",
   "metadata": {},
   "source": [
    "- First compile : `javac filename.java`\n",
    "- Then Run the compiled file : `java filename`"
   ]
  },
  {
   "cell_type": "markdown",
   "metadata": {},
   "source": [
    "# Around the world now"
   ]
  },
  {
   "cell_type": "markdown",
   "metadata": {},
   "source": [
    "- 36% of developers had switched from Oracle JDK to OpenJDK\n",
    "- 64% of developers are using Java 8. (Java 11 not only offers nothing significant enough to inspire migration, but actually removed almost 2000 classes from the Standard Library.)\n",
    "- 60% of developers use Spring."
   ]
  }
 ],
 "metadata": {
  "kernelspec": {
   "display_name": "env_py",
   "language": "python",
   "name": "python3"
  },
  "language_info": {
   "name": "python",
   "version": "3.8.11"
  }
 },
 "nbformat": 4,
 "nbformat_minor": 2
}
