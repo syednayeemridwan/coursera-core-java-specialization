{
 "cells": [
  {
   "cell_type": "markdown",
   "metadata": {},
   "source": [
    "# Typical Q/A"
   ]
  },
  {
   "cell_type": "markdown",
   "metadata": {},
   "source": [
    "- The entrypoint to run a java program : `main` method, without it java cannot run the program\n",
    "- There is only single entry point, so `main` is `static` method.\n",
    "- Anything that we want to write must be in a java class\n",
    "- primitives are variables that only hold data\n",
    "- Long variable: `long x= 123L` \n",
    "- Float variable: `float x= 12.3F` otherwise the default is `double`\n",
    "- there is no unsigned number in java\n",
    "- array: `type[] var_name = new type[size]`\n",
    "- previously, we used to store values in object :\n",
    "    - boxing : `Integer x = 31` \n",
    "    - unboxing : `int some_int = 31`\n",
    "- Official Documentation: https://docs.oracle.com/javase/8/docs/api/"
   ]
  }
 ],
 "metadata": {
  "language_info": {
   "name": "python"
  }
 },
 "nbformat": 4,
 "nbformat_minor": 2
}
