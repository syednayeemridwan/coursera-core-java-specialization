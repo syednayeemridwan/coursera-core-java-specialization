{
 "cells": [
  {
   "cell_type": "markdown",
   "metadata": {},
   "source": [
    "# Week - 2"
   ]
  },
  {
   "cell_type": "markdown",
   "metadata": {},
   "source": [
    "- The entrypoint to run a java program : `main` method, without it java cannot run the program\n",
    "- There is only single entry point, so `main` is `static` method.\n",
    "- Anything that we want to write must be in a java class\n",
    "- primitives are variables that only hold data\n",
    "- Long variable: `long x= 123L` \n",
    "- Float variable: `float x= 12.3F` otherwise the default is `double`\n",
    "- there is no unsigned number in java\n",
    "- array: `type[] var_name = new type[size]`\n",
    "- previously, we used to store values in object :\n",
    "    - boxing : `Integer x = 31` \n",
    "    - unboxing : `int some_int = 31`\n",
    "- Official Documentation: https://docs.oracle.com/javase/8/docs/api/"
   ]
  },
  {
   "cell_type": "markdown",
   "metadata": {},
   "source": [
    "# Week - 3"
   ]
  },
  {
   "cell_type": "markdown",
   "metadata": {},
   "source": [
    "\n",
    "- Ternary Expression : `int max = (val1 >= val2) ? val1 : val2;`\n",
    "- If-else :\n",
    "```\n",
    "if (a > b){\n",
    "    // your code to execute\n",
    "} \n",
    "else if (b > c){\n",
    "    // your code to execute\n",
    "}\n",
    "else {\n",
    "    // your code to execute\n",
    "}\n",
    "```\n",
    "- Switch:\n",
    "```\n",
    "int day = 4;\n",
    "switch (day) {\n",
    "  case 6:\n",
    "    System.out.println(\"Today is Saturday\");\n",
    "    break;\n",
    "  case 7:\n",
    "    System.out.println(\"Today is Sunday\");\n",
    "    break;\n",
    "  default:\n",
    "    System.out.println(\"Looking forward to the Weekend\");\n",
    "}\n",
    "```\n",
    "- do-while:\n",
    "```\n",
    "do {\n",
    "  //something you want to execute at least once\n",
    "} while (someBooleanCondition);\n",
    "```\n",
    "- while:\n",
    "```\n",
    "while(condition) {\n",
    "}\n",
    "```\n",
    "- For loop:\n",
    "```\n",
    "for(int i = 1; i <= 5; i++) {\n",
    "  if (i == 3) {\n",
    "    break; // abort and exit the loop\n",
    "  }\n",
    "  else {\n",
    "    continue; // skip the rest of the execution and go to next iteration\n",
    "  }\n",
    "  System.out.println(i);\n",
    "}\n",
    "```\n",
    "- For - Each loop:\n",
    "```\n",
    "int [] intArray = { 10, 20, 30, 40, 50 };\n",
    "        \n",
    "for( int value : intArray ) {\n",
    "   System.out.println( value );\n",
    "}\n",
    "```\n"
   ]
  }
 ],
 "metadata": {
  "language_info": {
   "name": "python"
  }
 },
 "nbformat": 4,
 "nbformat_minor": 2
}
