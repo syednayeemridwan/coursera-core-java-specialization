{
 "cells": [
  {
   "cell_type": "markdown",
   "metadata": {},
   "source": [
    "# Application Context"
   ]
  },
  {
   "cell_type": "markdown",
   "metadata": {},
   "source": [
    "- Application Context\n",
    "    - Heart of the application\n",
    "    - Entry point of the application\n",
    "    - Encapsulates the BeanFactory (wrapper around the Bean Factory)\n",
    "    - Provides metadata for Bean creation\n",
    "    - Allows to create Beans in right order\n",
    "    - There might be multiple Application Contexts\n",
    "    - Parent context can interact with child context, not the opposite\n",
    "- Bean Factory\n",
    "    - BeanFactory is the IoC container itself\n",
    "    - Fcilitates the injection of Beans at runtime or startup\n",
    "    - By default, creates and maintains singleton beans (so same bean is used throughout everywhere)\n",
    "    - Beans that are not singletons are handled differently\n",
    "    - Handles all bean injection\n",
    "    - You need to configure the Bean Factory"
   ]
  },
  {
   "cell_type": "markdown",
   "metadata": {},
   "source": [
    "# Application Configuration"
   ]
  },
  {
   "cell_type": "markdown",
   "metadata": {},
   "source": [
    "- Java Configuration\n",
    "    - Native language syntax\n",
    "    - Easier IDE integration\n",
    "    - Compile time checking of configuration\n",
    "- XML Configuration\n",
    "    - Legacy code base\n",
    "    - xml syntax"
   ]
  },
  {
   "cell_type": "markdown",
   "metadata": {},
   "source": [
    "# Spring Dependency"
   ]
  },
  {
   "cell_type": "markdown",
   "metadata": {},
   "source": [
    "```\n",
    "<dependencies>\n",
    "        <dependency>\n",
    "            <groupId>org.springframework</groupId>\n",
    "            <artifactId>spring-core</artifactId>\n",
    "            <version>${spring.version}</version>\n",
    "        </dependency>\n",
    "        <dependency>\n",
    "            <groupId>org.springframework</groupId>\n",
    "            <artifactId>spring-context</artifactId>\n",
    "            <version>${spring.version}</version>\n",
    "        </dependency>\n",
    "    </dependencies>\n",
    "```"
   ]
  },
  {
   "cell_type": "markdown",
   "metadata": {},
   "source": [
    "# Before configuring the spring"
   ]
  },
  {
   "cell_type": "markdown",
   "metadata": {},
   "source": [
    "### Application class"
   ]
  },
  {
   "cell_type": "markdown",
   "metadata": {},
   "source": [
    "```\n",
    "public class Application {\n",
    "\n",
    "    public static void main(String[] args) throws Exception {\n",
    "        GreetingService greetingService = new GreetingService(\"Hello\");\n",
    "        TimeService timeService = new TimeService(true);\n",
    "        OutputService outputService = new OutputService(greetingService, timeService);\n",
    "\n",
    "        for (int i=0;i<5;i++){\n",
    "            outputService.generateOutput(\"Frank\");\n",
    "            Thread.sleep(5000);\n",
    "        }\n",
    "    }\n",
    "}\n",
    "```"
   ]
  },
  {
   "cell_type": "markdown",
   "metadata": {},
   "source": [
    "### Independent Service : Greeting Service"
   ]
  },
  {
   "cell_type": "markdown",
   "metadata": {},
   "source": [
    "```\n",
    "public class GreetingService {\n",
    "\n",
    "    private final String greeting;\n",
    "\n",
    "    public GreetingService(String greeting){\n",
    "        super();\n",
    "        this.greeting = greeting;\n",
    "    }\n",
    "\n",
    "    public String getGreeting(String name){\n",
    "        return greeting + \" \" + name;\n",
    "    }\n",
    "}\n",
    "```"
   ]
  },
  {
   "cell_type": "markdown",
   "metadata": {},
   "source": [
    "### Independent Service : Time Service"
   ]
  },
  {
   "cell_type": "markdown",
   "metadata": {},
   "source": [
    "```\n",
    "\n",
    "public class TimeService {\n",
    "\n",
    "    private static final DateTimeFormatter FORMATTER_24 = DateTimeFormatter.ofPattern(\"HH:mm:ss\");\n",
    "    private static final DateTimeFormatter FORMATTER_12 = DateTimeFormatter.ofPattern(\"hh:mm:ss a\");\n",
    "\n",
    "    private final boolean is24;\n",
    "\n",
    "    public TimeService(boolean is24){\n",
    "        this.is24 = is24;\n",
    "    }\n",
    "\n",
    "\n",
    "    public String getCurrentTime(){\n",
    "        LocalDateTime now = LocalDateTime.now();\n",
    "        if (is24) {\n",
    "            return FORMATTER_24.format(now);\n",
    "        }\n",
    "        return FORMATTER_12.format(now);\n",
    "    }\n",
    "\n",
    "}\n",
    "\n",
    "```"
   ]
  },
  {
   "cell_type": "markdown",
   "metadata": {},
   "source": [
    "### Dependent Service : Output Service"
   ]
  },
  {
   "cell_type": "markdown",
   "metadata": {},
   "source": [
    "```\n",
    "public class OutputService {\n",
    "\n",
    "    private final GreetingService greetingService;\n",
    "    private final TimeService timeService;\n",
    "\n",
    "    public OutputService(GreetingService greetingService, TimeService timeService){\n",
    "        this.greetingService = greetingService;\n",
    "        this.timeService = timeService;\n",
    "    }\n",
    "\n",
    "    public void generateOutput(String name){\n",
    "        String output = timeService.getCurrentTime() + \" \" + greetingService.getGreeting(name);\n",
    "        System.out.println(output);\n",
    "    }\n",
    "\n",
    "}\n",
    "```"
   ]
  },
  {
   "cell_type": "markdown",
   "metadata": {},
   "source": [
    "# After writing the configuration class"
   ]
  },
  {
   "cell_type": "markdown",
   "metadata": {},
   "source": [
    "### Configuration class : Registering the service beans"
   ]
  },
  {
   "cell_type": "markdown",
   "metadata": {},
   "source": [
    "```\n",
    "@Configuration\n",
    "public class ApplicationConfig {\n",
    "\n",
    "    @Autowired\n",
    "    private GreetingService greetingService;\n",
    "    @Autowired\n",
    "    private TimeService timeService;\n",
    "\n",
    "    @Bean\n",
    "    public TimeService timeService(){\n",
    "        return new TimeService(true);\n",
    "    }\n",
    "    \n",
    "    @Bean\n",
    "    public GreetingService greetingService(){\n",
    "        return new GreetingService(\"Hello\");\n",
    "    }\n",
    "\n",
    "    @Bean\n",
    "    public OutputService outputService(){\n",
    "        return new OutputService(greetingService, timeService); // these parameters should be autowired\n",
    "    }\n",
    "}\n",
    "```"
   ]
  },
  {
   "cell_type": "markdown",
   "metadata": {},
   "source": [
    "### Application class : Using the configuration class"
   ]
  },
  {
   "cell_type": "markdown",
   "metadata": {},
   "source": [
    "```\n",
    "public class Application {\n",
    "\n",
    "    public static void main(String[] args) throws Exception {\n",
    "        ApplicationContext context = new AnnotationConfigApplicationContext(ApplicationConfig.class);\n",
    "        OutputService outputService = context.getBean(OutputService.class);\n",
    "\n",
    "        for (int i=0;i<5;i++){\n",
    "            outputService.generateOutput(\"Frank\"); // NOT RECOMMENDED : USE CONSTRUCTOR INJECTION\n",
    "            Thread.sleep(5000);\n",
    "        }\n",
    "    }\n",
    "}\n",
    "```"
   ]
  },
  {
   "cell_type": "markdown",
   "metadata": {},
   "source": [
    "# Adding properties and Changing setter injections into consructor injection"
   ]
  },
  {
   "cell_type": "markdown",
   "metadata": {},
   "source": [
    "### Moving method parameter to constructor parameter"
   ]
  },
  {
   "cell_type": "markdown",
   "metadata": {},
   "source": [
    "```\n",
    "public class OutputService {\n",
    "\n",
    "    private final String name;\n",
    "\n",
    "    private final GreetingService greetingService;\n",
    "    private final TimeService timeService;\n",
    "\n",
    "    public OutputService(GreetingService greetingService, TimeService timeService, String name){ // put parameter here\n",
    "        this.greetingService = greetingService;\n",
    "        this.timeService = timeService;\n",
    "        this.name = name;\n",
    "    }\n",
    "\n",
    "    public void generateOutput(){ // name parameter should not be here\n",
    "        String output = timeService.getCurrentTime() + \" \" + greetingService.getGreeting(name);\n",
    "        System.out.println(output);\n",
    "    }\n",
    "\n",
    "}\n",
    "```"
   ]
  },
  {
   "cell_type": "markdown",
   "metadata": {},
   "source": [
    "### Properties : `application.properties`"
   ]
  },
  {
   "cell_type": "markdown",
   "metadata": {},
   "source": [
    "```\n",
    "app.name=Frank\n",
    "app.greeting=Hello\n",
    "```"
   ]
  },
  {
   "cell_type": "markdown",
   "metadata": {},
   "source": [
    "### Configuration class that pulls data from properties"
   ]
  },
  {
   "cell_type": "markdown",
   "metadata": {},
   "source": [
    "```\n",
    "\n",
    "@Configuration\n",
    "@PropertySource(\"classpath:application.properties\") // path to properties file\n",
    "public class ApplicationConfig {\n",
    "\n",
    "    @Value(\"${app.greeting}\") // pulling data from properties file\n",
    "    private String greeting; \n",
    "    @Value(\"${app.name}\")\n",
    "    private String name;\n",
    "\n",
    "    @Autowired\n",
    "    private GreetingService greetingService;\n",
    "    @Autowired\n",
    "    private TimeService timeService;\n",
    "\n",
    "    @Bean\n",
    "    public TimeService timeService(){\n",
    "        return new TimeService(true);\n",
    "    }\n",
    "\n",
    "    @Bean\n",
    "    public OutputService outputService(){\n",
    "        return new OutputService(greetingService, timeService, name); // injecting data into service\n",
    "    }\n",
    "\n",
    "    @Bean\n",
    "    public GreetingService greetingService(){\n",
    "        return new GreetingService(greeting);\n",
    "    }\n",
    "}\n",
    "```"
   ]
  },
  {
   "cell_type": "markdown",
   "metadata": {},
   "source": [
    "### Application class"
   ]
  },
  {
   "cell_type": "markdown",
   "metadata": {},
   "source": [
    "```\n",
    "public class Application {\n",
    "\n",
    "    public static void main(String[] args) throws Exception {\n",
    "        ApplicationContext context = new AnnotationConfigApplicationContext(ApplicationConfig.class);\n",
    "        OutputService outputService = context.getBean(OutputService.class);\n",
    "\n",
    "        for (int i=0;i<5;i++){\n",
    "            outputService.generateOutput(); // no more explicit argument for parameter here\n",
    "            Thread.sleep(5000);\n",
    "        }\n",
    "    }\n",
    "}\n",
    "```"
   ]
  },
  {
   "cell_type": "markdown",
   "metadata": {},
   "source": [
    "# Override property variables with environment variables"
   ]
  },
  {
   "cell_type": "markdown",
   "metadata": {},
   "source": [
    "<center><img src=\"images/02.01.png\"  style=\"width: 400px, height: 300px;\"/></center>\n",
    "<center><img src=\"images/02.02.png\"  style=\"width: 400px, height: 300px;\"/></center>"
   ]
  },
  {
   "cell_type": "markdown",
   "metadata": {},
   "source": [
    "# Bean Profile : `ApplicationConfig.java`"
   ]
  },
  {
   "cell_type": "markdown",
   "metadata": {},
   "source": [
    "```\n",
    "\n",
    "@Configuration\n",
    "@PropertySource(\"classpath:application.properties\")\n",
    "public class ApplicationConfig {\n",
    "\n",
    "    @Value(\"${app.greeting}\")\n",
    "    private String greeting;\n",
    "    @Value(\"${app.name}\")\n",
    "    private String name;\n",
    "\n",
    "    @Autowired\n",
    "    private GreetingService greetingService;\n",
    "    @Autowired\n",
    "    private TimeService timeService;\n",
    "\n",
    "    @Bean\n",
    "    @Profile(\"!dev\")\n",
    "    public TimeService timeService(){\n",
    "        return new TimeService(true);\n",
    "    }\n",
    "\n",
    "    @Bean\n",
    "    @Profile(\"dev\") // another bean configuration for different profile\n",
    "    public TimeService timeService12(){\n",
    "        return new TimeService(false);\n",
    "    }\n",
    "    \n",
    "\n",
    "    @Bean\n",
    "    public GreetingService greetingService(){\n",
    "        return new GreetingService(greeting);\n",
    "    }\n",
    "\n",
    "    @Bean\n",
    "    public OutputService outputService(){\n",
    "        return new OutputService(greetingService, timeService, name);\n",
    "    }\n",
    "\n",
    "}\n",
    "\n",
    "```"
   ]
  },
  {
   "cell_type": "markdown",
   "metadata": {},
   "source": [
    "# Profile in Eclipse : `-Dspring.profiles.active=dev`"
   ]
  },
  {
   "cell_type": "markdown",
   "metadata": {},
   "source": [
    "<center><img src=\"images/02.03.png\"  style=\"width: 400px, height: 300px;\"/></center>\n",
    "<center><img src=\"images/02.04.png\"  style=\"width: 400px, height: 300px;\"/></center>\n",
    "<center><img src=\"images/02.05.png\"  style=\"width: 400px, height: 300px;\"/></center>\n",
    "<center><img src=\"images/02.06.png\"  style=\"width: 400px, height: 300px;\"/></center>\n"
   ]
  },
  {
   "cell_type": "markdown",
   "metadata": {},
   "source": [
    "# SPEL for replacing profile beans"
   ]
  },
  {
   "cell_type": "markdown",
   "metadata": {},
   "source": [
    "```\n",
    "\n",
    "@Configuration\n",
    "@PropertySource(\"classpath:application.properties\")\n",
    "public class ApplicationConfig {\n",
    "\n",
    "    @Value(\"${app.greeting}\")\n",
    "    private String greeting;\n",
    "    @Value(\"${app.name}\")\n",
    "    private String name;\n",
    "    // Setting up the is24 SPEL variable to replace different profile beans\n",
    "    @Value(\"#{new Boolean(environment['spring.profiles.active']!='dev')}\")\n",
    "    private boolean is24;\n",
    "\n",
    "    @Autowired\n",
    "    private GreetingService greetingService;\n",
    "    @Autowired\n",
    "    private TimeService timeService;\n",
    "    \n",
    "    \n",
    "    // One Bean to replace multiple beans of different profiles with SPEL variable is24 \n",
    "    @Bean\n",
    "    public TimeService timeService(){\n",
    "        return new TimeService(is24);\n",
    "    }\n",
    "//    @Bean\n",
    "//    @Profile(\"!dev\")\n",
    "//    public TimeService timeService(){\n",
    "//        return new TimeService(true);\n",
    "//    }\n",
    "//\n",
    "//    @Bean\n",
    "//    @Profile(\"dev\") // another bean configuration for different profile\n",
    "//    public TimeService timeService12(){\n",
    "//        return new TimeService(false);\n",
    "//    }\n",
    "\n",
    "    @Bean\n",
    "    public GreetingService greetingService(){\n",
    "        return new GreetingService(greeting);\n",
    "    }\n",
    "    @Bean\n",
    "    public OutputService outputService(){\n",
    "        return new OutputService(greetingService, timeService, name);\n",
    "    }\n",
    "}\n",
    "```"
   ]
  },
  {
   "cell_type": "markdown",
   "metadata": {},
   "source": [
    "# Bean scope"
   ]
  },
  {
   "cell_type": "markdown",
   "metadata": {},
   "source": [
    "- Singleton\n",
    "    - default scope\n",
    "    - one instance of object per context\n",
    "    - You may declare two beans. But injecting them requires a lot more stuff (NOT RECOMMENDED)\n",
    "    - Spring keeps the handle of the object\n",
    "    - be careful with state data. since every class that have the dependency will have access to state data, it may get changed by some other thread.\n",
    "- Prototype\n",
    "    - Creates new instance every time it is referenced\n",
    "    - useful for transient data or types that flex on states\n",
    "    - Spring hands over that instance and releases its own handle, so when the task is finished, it is automatically disposed off by garbage collector\n",
    "- Session\n",
    "    - Works in web environment only\n",
    "    - One instance of bean per user session\n",
    "    - Helps to isolate session data from other sessions\n",
    "    - Spring hands over that instance and releases its own handle, so when the session is finished, it is automatically disposed off by garbage collector\n",
    "- Request\n",
    "    - Works in web environment only\n",
    "    - One instance of bean per user request\n",
    "    - Spring hands over that instance and releases its own handle, so when the request is finished, it is automatically disposed off by garbage collector\n"
   ]
  },
  {
   "cell_type": "markdown",
   "metadata": {},
   "source": [
    "# Proxies"
   ]
  },
  {
   "cell_type": "markdown",
   "metadata": {},
   "source": [
    "- Proxies add behavior (Aspected behavior added to the classes by the framework)\n",
    "- in spring everything is proxied\n",
    "- all classes in spring gets wrapped by at least one proxy\n",
    "- proxies can only apply their behavior only when they are called by the proxy\n",
    "- private methods dont get proxy behavior (since they are not exposed to the proxy)\n",
    "- internal calls (reference method call on same class) dont get proxy behavior (since they are not exposed to the proxy)"
   ]
  }
 ],
 "metadata": {
  "language_info": {
   "name": "python"
  }
 },
 "nbformat": 4,
 "nbformat_minor": 2
}
