{
 "cells": [
  {
   "cell_type": "markdown",
   "metadata": {},
   "source": [
    "# Aspects"
   ]
  },
  {
   "cell_type": "markdown",
   "metadata": {},
   "source": [
    "- Adds global behavior to the application\n",
    "- Re-usable block of code that can be injected into the application during runtime\n",
    "- Leverages AspectJ\n",
    "- Byte code modification (Runtime interweaving)\n",
    "- Dynamic proxy-based\n",
    "- Common applications\n",
    "    - logging and tracing\n",
    "    - Transaction management\n",
    "    - Caching\n",
    "    - Security\n",
    "- Parts of Spring Aspect\n",
    "    - Join Point : \n",
    "        - Represents these specific points in the execution of a program where advice can be applied.\n",
    "        - Business logic where aspect can be applied \n",
    "        - You apply the aspect here\n",
    "    - Pointcut : \n",
    "        - Specifies certain conditions or criteria that define when certain pieces of code (advice) should be executed.\n",
    "        - Select the joinpoint for the cross-cutting concern \n",
    "        - This is the trigger of aspect \n",
    "        - signature: `designator(\"returntype packageName.className.methodName(argument)\" )`\n",
    "        - common designators : \n",
    "            - `execution` (expression for matching method execution), \n",
    "            - `within` (expression for matching within certain type), \n",
    "            - `target` (expression for matching specific type), \n",
    "            - `@annotation` (expression for matching specific annotation)\n",
    "    - Advice : \n",
    "        - Represents the actual code or instructions that need to be executed when the conditions specified by the pointcut are met.\n",
    "        - The code that is applied to the join point when it is selected by the pointcut (cross-cutting concern )\n",
    "        - This is the aspected behavior itself\n"
   ]
  },
  {
   "cell_type": "markdown",
   "metadata": {},
   "source": [
    "# Logging using AOP "
   ]
  },
  {
   "cell_type": "markdown",
   "metadata": {},
   "source": [
    "### `pom.xml` dependency"
   ]
  },
  {
   "cell_type": "markdown",
   "metadata": {},
   "source": [
    "```\n",
    "<dependency>\n",
    "    <groupId>org.aspectj</groupId>\n",
    "    <artifactId>aspectjweaver</artifactId>\n",
    "    <version>1.9.5</version>\n",
    "</dependency>\n",
    "<dependency>\n",
    "    <groupId>org.slf4j</groupId>\n",
    "    <artifactId>slf4j-log4j12</artifactId>\n",
    "    <version>1.7.30</version>\n",
    "</dependency>\n",
    "```"
   ]
  },
  {
   "cell_type": "markdown",
   "metadata": {},
   "source": [
    "### `log4j.properties` file"
   ]
  },
  {
   "cell_type": "markdown",
   "metadata": {},
   "source": [
    "```\n",
    "log4j.rootLogger=INFO, stdout\n",
    "\n",
    "log4j.appender.stdout=org.apache.log4j.ConsoleAppender\n",
    "log4j.appender.stdout.Target=System.out\n",
    "log4j.appender.stdout.layout=org.apache.log4j.PatternLayout\n",
    "log4j.appender.stdout.layout.ConversionPattern=%d{yyyy-MM-dd HH:mm:ss} %-5p %c{1} - %m%n\n",
    "```"
   ]
  },
  {
   "cell_type": "markdown",
   "metadata": {},
   "source": [
    "### Enable AOP in `ApplicationConfig.java`"
   ]
  },
  {
   "cell_type": "markdown",
   "metadata": {},
   "source": [
    "```\n",
    "@Configuration\n",
    "@PropertySource(\"classpath:application.properties\")\n",
    "@ComponentScan(basePackages = \"com.frankmoley.lil.fid\")\n",
    "@EnableAspectJAutoProxy // Enable AOP\n",
    "public class ApplicationConfig {\n",
    "\n",
    "}\n",
    "```"
   ]
  },
  {
   "cell_type": "markdown",
   "metadata": {},
   "source": [
    "### Create annotation `Loggable` (This will act as a pointcut)"
   ]
  },
  {
   "cell_type": "markdown",
   "metadata": {},
   "source": [
    "```\n",
    "@Target(ElementType.METHOD) // annotation should work on methods\n",
    "@Retention(RetentionPolicy.RUNTIME) // annotation should be loaded during runtime\n",
    "public @interface Loggable {\n",
    "}\n",
    "\n",
    "```"
   ]
  },
  {
   "cell_type": "markdown",
   "metadata": {},
   "source": [
    "### Create service `GreetingService.java` (This is where Joinpoint resides)"
   ]
  },
  {
   "cell_type": "markdown",
   "metadata": {},
   "source": [
    "```\n",
    "@Service\n",
    "public class GreetingService {\n",
    "\n",
    "    @Value(\"${app.greeting}\")\n",
    "    private String greeting;\n",
    "\n",
    "    public GreetingService(){\n",
    "        super();\n",
    "    }\n",
    "\n",
    "    @Loggable // This is the joinpoint : Where the aspected behavior is stitched\n",
    "    public String getGreeting(String name){\n",
    "        return greeting + \" \" + name;\n",
    "    }\n",
    "}\n",
    "\n",
    "```"
   ]
  },
  {
   "cell_type": "markdown",
   "metadata": {},
   "source": [
    "### Create Aspect class `LoggingAspect.java` (This will act as advise )"
   ]
  },
  {
   "cell_type": "markdown",
   "metadata": {},
   "source": [
    "```\n",
    "\n",
    "\n",
    "@Component\n",
    "@Aspect // ensure for component scanning\n",
    "public class LoggingAspect {\n",
    "\n",
    "    private static final Logger LOGGER = LoggerFactory.getLogger(LoggingAspect.class);\n",
    "\n",
    "    @Pointcut(\"@annotation(Loggable)\") // connect with the annotation. The annotation is the pointcut (will trigger this aspect)\n",
    "    public void executeLogging(){} // The original Advise : the logic that will run when annotation is called\n",
    "\n",
    "    @Before(value = \"executeLogging()\")  // Pre-Advise: the logic that will run before execution of original advise\n",
    "    public void logMethodCall(JoinPoint joinPoint){\n",
    "        StringBuilder message = new StringBuilder(\"Method: \");\n",
    "        message.append(joinPoint.getSignature().getName());\n",
    "        Object[] args = joinPoint.getArgs();\n",
    "        if (null!=args && args.length>0){\n",
    "            message.append(\" args=[ | \");\n",
    "            Arrays.asList(args).forEach(arg->{\n",
    "                message.append(arg).append(\" | \");\n",
    "            });\n",
    "            message.append(\"]\");\n",
    "        }\n",
    "        LOGGER.info(message.toString());\n",
    "    }\n",
    "    \n",
    "    @AfterReturning(value = \"executeLogging()\", returning = \"returnValue\") // Post-Advise: the logic that will run after execution of original advise\n",
    "    public void logMethodCall(JoinPoint joinPoint, Object returnValue){\n",
    "        StringBuilder message = new StringBuilder(\"Method: \");\n",
    "        message.append(joinPoint.getSignature().getName());\n",
    "        Object[] args = joinPoint.getArgs();\n",
    "        if (null!=args && args.length>0){\n",
    "            message.append(\" args=[ | \");\n",
    "            Arrays.asList(args).forEach(arg->{\n",
    "                message.append(arg).append(\" | \");\n",
    "            });\n",
    "            message.append(\"]\");\n",
    "        }\n",
    "        if(returnValue instanceof Collection){\n",
    "            message.append(\", returning: \").append(((Collection)returnValue).size()).append(\" instance(s)\");\n",
    "        }else{\n",
    "            message.append(\", returning: \").append(returnValue.toString());\n",
    "        }\n",
    "\n",
    "        LOGGER.info(message.toString());\n",
    "    }\n",
    "    \n",
    "\n",
    "    @Around(value = \"executeLogging()\") // Most Flexible : Anything before original advise, anything after original advise returning value, anything after original advise returning exception\n",
    "    public Object logMethodCall(ProceedingJoinPoint joinPoint) throws Throwable {\n",
    "        long startTime = System.currentTimeMillis();\n",
    "        Object returnValue = joinPoint.proceed();\n",
    "        long totalTime = System.currentTimeMillis()-startTime;\n",
    "        StringBuilder message = new StringBuilder(\"Method: \");\n",
    "        message.append(joinPoint.getSignature().getName());\n",
    "        message.append(\" totalTime: \").append(totalTime).append(\"ms\");\n",
    "        Object[] args = joinPoint.getArgs();\n",
    "        if (null!=args && args.length>0){\n",
    "            message.append(\" args=[ | \");\n",
    "            Arrays.asList(args).forEach(arg->{\n",
    "                message.append(arg).append(\" | \");\n",
    "            });\n",
    "            message.append(\"]\");\n",
    "        }\n",
    "        if(returnValue instanceof Collection){\n",
    "            message.append(\", returning: \").append(((Collection)returnValue).size()).append(\" instance(s)\");\n",
    "        }else{\n",
    "            message.append(\", returning: \").append(returnValue.toString());\n",
    "        }\n",
    "\n",
    "        LOGGER.info(message.toString());\n",
    "        return returnValue;\n",
    "    }\n",
    "\n",
    "\n",
    "}\n",
    "\n",
    "```"
   ]
  },
  {
   "cell_type": "markdown",
   "metadata": {},
   "source": [
    "# Example 2 : Simple AOP "
   ]
  },
  {
   "cell_type": "markdown",
   "metadata": {},
   "source": [
    "```\n",
    "// pom.xml dependencies for AspectJ and Logging\n",
    "<dependencies>\n",
    "    <!-- Spring dependencies -->\n",
    "    <dependency>\n",
    "        <groupId>org.springframework.boot</groupId>\n",
    "        <artifactId>spring-boot-starter</artifactId>\n",
    "    </dependency>\n",
    "    <dependency>\n",
    "        <groupId>org.springframework.boot</groupId>\n",
    "        <artifactId>spring-boot-starter-aop</artifactId>\n",
    "    </dependency>\n",
    "\n",
    "    <!-- Logging dependencies -->\n",
    "    <dependency>\n",
    "        <groupId>org.slf4j</groupId>\n",
    "        <artifactId>slf4j-api</artifactId>\n",
    "    </dependency>\n",
    "    <dependency>\n",
    "        <groupId>ch.qos.logback</groupId>\n",
    "        <artifactId>logback-classic</artifactId>\n",
    "    </dependency>\n",
    "</dependencies>\n",
    "\n",
    "// ApplicationConfig.java for ApplicationContext configuration\n",
    "@Configuration\n",
    "@ComponentScan(basePackages = \"com.example.myapp\")\n",
    "@EnableAspectJAutoProxy\n",
    "public class ApplicationConfig {\n",
    "}\n",
    "\n",
    "// Custom annotation to use as PointCut trigger\n",
    "@Retention(RetentionPolicy.RUNTIME)\n",
    "@Target(ElementType.METHOD)\n",
    "public @interface LogThis {\n",
    "}\n",
    "\n",
    "// Service class as Joinpoint : Where the Aspected behavior is applied through annotation\n",
    "@Service\n",
    "public class MyService {\n",
    "\n",
    "    @LogThis\n",
    "    public void doSomething() {\n",
    "        System.out.println(\"Doing something...\");\n",
    "    }\n",
    "}\n",
    "\n",
    "// The aspect class advises : The custom behavior that is applied to the JoinPoints through annotation calls\n",
    "@Aspect\n",
    "@Component\n",
    "public class LoggingAspect {\n",
    "\n",
    "    @Pointcut(\"@annotation(com.example.myapp.annotation.LogThis)\") // Setting up the annotation as pointcut\n",
    "    private void logThisMethods() {} // Root advise method\n",
    "\n",
    "    @Before(\"logThisMethods()\") // this method will be called before root advise method\n",
    "    public void logBefore(JoinPoint joinPoint) {\n",
    "        System.out.println(\"Before executing \" + joinPoint.getSignature().toShortString());\n",
    "    }\n",
    "\n",
    "    @After(\"logThisMethods()\") // this method will be called after root advise method\n",
    "    public void logAfter(JoinPoint joinPoint) {\n",
    "        System.out.println(\"After executing \" + joinPoint.getSignature().toShortString());\n",
    "    }\n",
    "\n",
    "    @Around(\"logThisMethods()\") // FLEXIBLE: take care before, after and during exception while processing root advise method \n",
    "    public Object logAround(ProceedingJoinPoint joinPoint) throws Throwable {\n",
    "        System.out.println(\"Before executing \" + joinPoint.getSignature().toShortString());\n",
    "        Object result = joinPoint.proceed();\n",
    "        System.out.println(\"After executing \" + joinPoint.getSignature().toShortString());\n",
    "        return result;\n",
    "    }\n",
    "\n",
    "    @AfterReturning(pointcut = \"logThisMethods()\", returning = \"result\")  // this method will be called after root advise method\n",
    "    public void logAfterReturning(JoinPoint joinPoint, Object result) {\n",
    "        System.out.println(\"After returning from \" + joinPoint.getSignature().toShortString() + \", result: \" + result);\n",
    "    }\n",
    "\n",
    "    @AfterThrowing(pointcut = \"logThisMethods()\", throwing = \"exception\") // this method will take care any method exception\n",
    "    public void logAfterThrowing(JoinPoint joinPoint, Throwable exception) {\n",
    "        System.out.println(\"After throwing exception from \" + joinPoint.getSignature().toShortString() + \", exception: \" + exception.getMessage());\n",
    "    }\n",
    "}\n",
    "```"
   ]
  }
 ],
 "metadata": {
  "language_info": {
   "name": "python"
  }
 },
 "nbformat": 4,
 "nbformat_minor": 2
}
