{
 "cells": [
  {
   "cell_type": "markdown",
   "metadata": {},
   "source": [
    "# Spring Boot Advantages"
   ]
  },
  {
   "cell_type": "markdown",
   "metadata": {},
   "source": [
    "- Lightweight\n",
    "- war files requires tomcat server, however jar comes as executable embedded app server\n",
    "- Just focus on business logic instead of thinking about setting up stuffs (jdbc establish connection, do query, close connection for each individual connection)\n",
    "- Dependency management : Framework creates and maintains object. You just create the object once through configuration or other way, the spring framework willl do the rest\n",
    "- Inversion of Control\n",
    "    - the container maintains all the classes including the dependency classes\n",
    "    - objects are inserted during runtime or startup\n",
    "    - Instead of pushing the dependency, the object accepts the dependency during it's creation through constructor or setter\n",
    "        - Constructor injection : If the class cannot operate without dependency, it should be through constructor injection\n",
    "        - Setter injection : If the class can treat the dependency as optional or can accept multiple variable types of dependency, it should be through setter injection\n"
   ]
  },
  {
   "cell_type": "markdown",
   "metadata": {},
   "source": [
    "# Importance of Dependency Injection"
   ]
  },
  {
   "cell_type": "markdown",
   "metadata": {},
   "source": [
    "- Without dependency injection\n",
    "    - You want contstruct main\n",
    "    - Main needs dependency of Class A\n",
    "    - So you need to create object of class A and provide that to main\n",
    "    - Main needs dependency of Class B\n",
    "    - So you need to create object of class B and provide that to main\n",
    "    - Class B needs dependency of class X and class Y\n",
    "    - You need to create onject of class X and object of class Y and provide them inside the object of class B\n",
    "    - You then need to give the constructed object of class B to class Main\n",
    "- With dependency injection\n",
    "    - You want to construct main\n",
    "    - IoC container manages all classes\n",
    "    - Main has dependencies\n",
    "    - Instead of constructing the objects, main only takes constructor arguments\n",
    "    - IoC container handles the construction of the objects which main needs by looking at the constructor arguments\n",
    "    - Framework is in control of the injection of these dependencies according to needs"
   ]
  }
 ],
 "metadata": {
  "language_info": {
   "name": "python"
  }
 },
 "nbformat": 4,
 "nbformat_minor": 2
}
