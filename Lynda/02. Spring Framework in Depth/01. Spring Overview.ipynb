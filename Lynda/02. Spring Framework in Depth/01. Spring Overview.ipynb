{
 "cells": [
  {
   "cell_type": "markdown",
   "metadata": {},
   "source": [
    "# Spring Boot Advantages"
   ]
  },
  {
   "cell_type": "markdown",
   "metadata": {},
   "source": [
    "- Lightweight\n",
    "- war files requires tomcat server, however jar comes as executable embedded app server\n",
    "- Just focus on business logic instead of thinking about setting up stuffs (jdbc establish connection, do query, close connection for each individual connection)\n",
    "- Dependency management : Framework creates and maintains object. You just create the object once through configuration or other way, the spring framework willl do the rest\n",
    "- Inversion of Control\n",
    "    - the container maintains all the classes including the dependency classes\n",
    "    - objects are inserted during runtime or startup\n",
    "    - Instead of pushing the dependency, the object accepts the dependency during it's creation through constructor or setter\n",
    "        - Constructor injection : If the class cannot operate without dependency, it should be through constructor injection\n",
    "        - Setter injection : If the class can treat the dependency as optional or can accept multiple variable types of dependency, it should be through setter injection\n"
   ]
  },
  {
   "cell_type": "markdown",
   "metadata": {},
   "source": [
    "# Importance of Dependency Injection"
   ]
  },
  {
   "cell_type": "markdown",
   "metadata": {},
   "source": [
    "- Dependency Injection\n",
    "    - Classes should not instantiate their dependency or create new object\n",
    "    - Classes should only use the object that is given to them (Creating and using are two different things)\n",
    "    - There should be a separate injector class who will create object and then give the created object to the  class who needs that object.\n",
    "    - So the injector class will be responsible for passing or injecting a dependency.\n",
    "    - This is called dependency injection.\n",
    "    - three types:\n",
    "        1. constructor injection : Dependency is passed via constructor\n",
    "        2. setter injection : Dependency is passed via setter\n",
    "        3. method injection : Dependency is passed via method\n",
    "- Inversion of Control\n",
    "    - the container maintains all the classes including the dependency classes\n",
    "    - objects are inserted during runtime or startup\n",
    "    - Instead of pushing the dependency, the object accepts the dependency during it's creation through constructor or setter\n",
    "        - Constructor injection : If the class cannot operate without dependency, it should be through constructor injection\n",
    "        - Setter injection : If the class can treat the dependency as optional or can accept multiple variable types of dependency, it should be through setter injection\n",
    "- Without dependency injection\n",
    "    - You want contstruct main\n",
    "    - Main needs dependency of Class A\n",
    "    - So you need to create object of class A and provide that to main\n",
    "    - Main needs dependency of Class B\n",
    "    - So you need to create object of class B and provide that to main\n",
    "    - Class B needs dependency of class X and class Y\n",
    "    - You need to create onject of class X and object of class Y and provide them inside the object of class B\n",
    "    - You then need to give the constructed object of class B to class Main\n",
    "- With dependency injection\n",
    "    - You want to construct main\n",
    "    - IoC container manages all classes\n",
    "    - Main has dependencies\n",
    "    - Instead of constructing the objects, main only takes constructor arguments\n",
    "    - IoC container handles the construction of the objects which main needs by looking at the constructor arguments\n",
    "    - Framework is in control of the injection of these dependencies according to needs"
   ]
  },
  {
   "cell_type": "markdown",
   "metadata": {},
   "source": [
    "<center><img src=\"images/01.01.png\"  style=\"width: 400px, height: 300px;\"/></center>\n",
    "<center><img src=\"images/01.02.png\"  style=\"width: 400px, height: 300px;\"/></center>"
   ]
  }
 ],
 "metadata": {
  "language_info": {
   "name": "python"
  }
 },
 "nbformat": 4,
 "nbformat_minor": 2
}
