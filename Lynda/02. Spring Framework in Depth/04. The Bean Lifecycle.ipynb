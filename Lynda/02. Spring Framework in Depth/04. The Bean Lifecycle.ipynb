{
 "cells": [
  {
   "cell_type": "markdown",
   "metadata": {},
   "source": [
    "# Why Lifecycle methods important"
   ]
  },
  {
   "cell_type": "markdown",
   "metadata": {},
   "source": [
    "- You can use framework as you wish\n",
    "- You can extend the system with custom processors, behaviors\n",
    "- Aids for troubleshooting \n",
    "- Helps to think outside the box \n",
    "- Helps to take better design decisions"
   ]
  },
  {
   "cell_type": "markdown",
   "metadata": {},
   "source": [
    "# Phases"
   ]
  },
  {
   "cell_type": "markdown",
   "metadata": {},
   "source": [
    "- 3 Main phases"
   ]
  },
  {
   "cell_type": "markdown",
   "metadata": {},
   "source": [
    "<center><img src=\"images/04.01.png\"  style=\"width: 400px, height: 300px;\"/></center>\n",
    "<center><img src=\"images/04.02.png\"  style=\"width: 400px, height: 300px;\"/></center>"
   ]
  },
  {
   "cell_type": "markdown",
   "metadata": {},
   "source": [
    "# Spring Lifecycle explained"
   ]
  },
  {
   "cell_type": "markdown",
   "metadata": {},
   "source": [
    "- Initialization phase\n",
    "    - ApplicationContext creation phase:  Begins with the creation of ApplicationContext\n",
    "    - BeanFactory Initialization phase : \n",
    "        1. Init Bean Definition phase : Load bean definitions and metadata\n",
    "            - Bean definitions are loaded from all sources (Java configuration, xml configuration, component scanning and auto configuration)\n",
    "            - Id is used to create index for the factory. Everything else is referenced as type or name\n",
    "            - BeanFactory only contains reference and metadata. Nothing is yet instantiated. (No object created)\n",
    "            - example : `ApplicationConfig` class is read by the system to know the registered beans\n",
    "        2. Init post- Bean Definition phase: Modify beans\n",
    "            - Perform work on entire BeanFactory\n",
    "            - Can transform any bean or modify bean behavior in the BeanFactory before object creation\n",
    "            - `Interface BeanFactoryPostProcessor` is used for this purpose. Bean definitions that use this must be `static` to make sure they act like singletons (to avoid risk side-effects of dynamic behavior)\n",
    "            - helps to write custom component to impact the BeanFactory\n",
    "            - Bean and system configuration is completed\n",
    "            - example: loading information from `application.properties` file\n",
    "        3. Bean Instantiation phase: Instantiate objects by constructor injection\n",
    "            - Beans are instantiated in the factory using constructors\n",
    "            - So, objects are constructed. But they are not available for use yet.\n",
    "            - Done in correct order to ensure that the dependencies are created first\n",
    "            - Singleton beans remains in the factory as they are created (eager instantiation) and their handle remains in BeanFactory unless IoC container is closed (to make sure the beans are available across the whole application)\n",
    "            - Beans that are not singletons are not created unless they are needed (lazy instantiation) and mostly their handle is released by IoC container (So that they are easily disposed off by garbage collector once they are no longer needed)\n",
    "        4. Post instantiation dependency injection phase: optional dependency by setter injection\n",
    "            - Setters are called\n",
    "            - `Autiwired` on non-constructors are called (fields and setters)\n",
    "            - All dependencies are injected\n",
    "            - Beans are yet not ready to use\n",
    "        5. Post-processing of Bean before serving the object to the runtime:\n",
    "            - Final point of configuration manipulation\n",
    "            - Additional behaviors added to the beans \n",
    "            - `Interface BeanPostProcessor` is used to inject common behavior to a class of beans\n",
    "            - Beans are finally ready to use\n",
    "            - 3 sub-phases:\n",
    "                1. Before initializer : proxies are built\n",
    "                2. Initializer : `@PostConstruct` methods called here\n",
    "                3. After initializer \n",
    "- Use phase:\n",
    "    - ApplicationContext serves proxies to the original class\n",
    "    - ApplicationContext maintains handle of all singleton Beans (they are not garbage collected)\n",
    "    - `Interface ApplicationContextAware` can be used to give the beans insight about application (gives that class a handle to the ApplicationContext)\n",
    "- Destruction phase\n",
    "    - Begins when close is called on ApplicationContext\n",
    "    - Any `@PreDestroy` is called and then the beans are marked as available for garbage collection\n",
    "    - Once closed, context cannot be re-used again (even if the garbage collector hasn't taken the beans yet)\n",
    "- Difference among Java, xml and auto configuration:\n",
    "    - Java Configuration:\n",
    "        - instantiation of all beans along with constructor and setter injection together\n",
    "        - `@Bean` annotated methods are executed in proper order. \n",
    "    - XML injection\n",
    "        - instantiation of all beans and constructor injection simultaneously\n",
    "        - setter, property injection\n",
    "    - Auto configuration:\n",
    "        - instantiation of all beans through scanning\n",
    "        - `@Autowired` on constructors injection (if there is only one constructor, then it will be the default autowired)\n",
    "        - `@Autowired` on setter and field injection"
   ]
  }
 ],
 "metadata": {
  "language_info": {
   "name": "python"
  }
 },
 "nbformat": 4,
 "nbformat_minor": 2
}
