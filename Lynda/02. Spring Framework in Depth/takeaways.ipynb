{
 "cells": [
  {
   "cell_type": "markdown",
   "metadata": {},
   "source": [
    "# IoC and Dependency Injection"
   ]
  },
  {
   "cell_type": "markdown",
   "metadata": {},
   "source": [
    "- Inversion of Control\n",
    "    - the container maintains all the classes including the dependency classes (framework is in control instead of developer)\n",
    "    - objects are inserted during runtime or startup\n",
    "    - Instead of finding the right class and pushing the dependeency, the object accepts the dependency during it's creation through constructor or setter\n",
    "        - Constructor injection : If the class cannot operate without dependency, it should be through constructor injection\n",
    "        - Setter injection : If the class can treat the dependency as optional or can accept multiple variable types of dependency, it should be through setter injection\n",
    "- Dependency Injection\n",
    "    - Classes should not instantiate their dependency or create new object\n",
    "    - Classes should only use the object that is given to them (Creating and using are two different things)\n",
    "    - There should be a separate injector class who will create object and then give the created object to the  class who needs that object.\n",
    "    - So the injector class will be responsible for passing or injecting a dependency.\n",
    "    - This is called dependency injection.\n",
    "    - three types:\n",
    "        1. constructor injection : Dependency is passed via constructor\n",
    "        2. setter injection : Dependency is passed via setter\n",
    "        3. method injection : Dependency is passed via method\n",
    "- Without dependency injection\n",
    "    - You want to contstruct main class\n",
    "    - Main needs dependency of Class A\n",
    "    - So you need to create object of class A and provide that to main\n",
    "    - Main needs dependency of Class B\n",
    "    - So you need to create object of class B and provide that to main\n",
    "    - Class B needs dependency of class X and class Y\n",
    "    - You need to create object of class X and object of class Y and provide them inside the object of class B\n",
    "    - You then need to give the constructed object of class B to class Main\n",
    "- With dependency injection\n",
    "    - You want to construct main\n",
    "    - IoC container manages all classes\n",
    "    - Main has dependencies\n",
    "    - Instead of constructing the objects, main only takes constructor arguments\n",
    "    - IoC container looks at the constructor arguments of Main and handles the construction of the dependency objects \n",
    "    - Framework is in control of the injection of these dependencies according to the needs"
   ]
  },
  {
   "cell_type": "markdown",
   "metadata": {},
   "source": [
    "# Autowired"
   ]
  },
  {
   "cell_type": "markdown",
   "metadata": {},
   "source": [
    "```\n",
    "// ApplicationConfig.java (Your bean configuration class where you set up the beans)\n",
    "@Configuration\n",
    "@PropertySource(\"classpath:application.properties\") // path to property file\n",
    "@ComponentScan(basePackages = \"com.examplepackage\") // path to the root package to scan for beans by IoC Container\n",
    "public class ApplicationConfig {\n",
    "    // No need to define @Bean methods for GreetingService and HelloController\n",
    "    // Spring will automatically detect and instantiate beans based on component scanning\n",
    "}\n",
    "\n",
    "\n",
    "// application.properties (Values can also be overriden by run configuration variables(VM/ args/ Config class etc))\n",
    "app.greeting=Hello, World!\n",
    "\n",
    "// GreetingService.java (The service interface)\n",
    "public interface GreetingService {\n",
    "    String greet();\n",
    "}\n",
    "// GreetingServiceImpl.java (The service implementation)\n",
    "@Service\n",
    "public class GreetingServiceImpl implements GreetingService {\n",
    "\n",
    "    @Value(\"${app.greeting}\") // pull data from application.properties file\n",
    "    private String greetingMessage;\n",
    "\n",
    "    @Override\n",
    "    public String greet() {\n",
    "        return greetingMessage;\n",
    "    }\n",
    "}\n",
    "\n",
    "//HelloController.java (The controller that needs the service dependency)\n",
    "@RestController\n",
    "public class HelloController {\n",
    "\n",
    "    private final GreetingService greetingService;\n",
    "\n",
    "    @Autowired // the service dependency will be injected here by the IoC Container\n",
    "    public HelloController(GreetingService greetingService) {\n",
    "        this.greetingService = greetingService;\n",
    "    }\n",
    "\n",
    "    @GetMapping(\"/\") // API or route to access the service output\n",
    "    public String hello() {\n",
    "        return greetingService.greet();\n",
    "    }\n",
    "}\n",
    "\n",
    "// Application.java (Main class)\n",
    "@SpringBootApplication\n",
    "public class Application {\n",
    "    public static void main(String[] args) {\n",
    "        SpringApplication.run(Application.class, args);\n",
    "    }\n",
    "}\n",
    "```"
   ]
  },
  {
   "cell_type": "markdown",
   "metadata": {},
   "source": []
  }
 ],
 "metadata": {
  "language_info": {
   "name": "python"
  }
 },
 "nbformat": 4,
 "nbformat_minor": 2
}
