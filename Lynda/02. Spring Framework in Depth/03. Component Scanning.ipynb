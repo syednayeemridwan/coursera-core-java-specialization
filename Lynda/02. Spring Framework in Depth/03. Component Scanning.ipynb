{
 "cells": [
  {
   "cell_type": "markdown",
   "metadata": {},
   "source": [
    "# Component Scanning"
   ]
  },
  {
   "cell_type": "markdown",
   "metadata": {},
   "source": [
    "- Start Component Scanning\n",
    "    - `@SpringBootApplication`, for automatic scanning in Spring Boot\n",
    "    - For Spring, it can be with `@ComponentScan(basePackages = \"com.yourpackage.package\")` in ApplicationConfig.java\n",
    "    - Requires java or xml configuration for Spring\n",
    "    - Base package should be defined for component scanning\n",
    "    - Scanning occurs during startup\n",
    "    - \n",
    "- Helps to find the beans, services etc in the package\n",
    "- `@Component` : indicates that a class should be loaded in the bean factory\n",
    "- `@Service` : Stereotype of `@Component` that indicates that this class is a service\n",
    "- helps to scan base packages and the subpackages inside the base package \n",
    "- Loads configuration automatically for each bean it finds and helps IoC container to build the dependency graph\n",
    "- `@Autowired` helps the IoC container to inject the beans for dependency injection to the places where injection is required.\n",
    "- Best practices:\n",
    "    - Avoid using `@Autowired` on class attributes for testing purpose\n",
    "    - If dependency is required, use it on constructor\n",
    "    - If dependency is not required / optional , use it on setter\n",
    "- `@Qualifier` with a version name is used for injection if there are more than one beans of same type (NOT RECOMMENDED)\n",
    "- `@Value` is used to inject properties or constants. that property is not required in constructor if it is injected inside the specified class instead of configuration class"
   ]
  },
  {
   "cell_type": "markdown",
   "metadata": {},
   "source": [
    "# Refactoring for Autowiring"
   ]
  },
  {
   "cell_type": "markdown",
   "metadata": {},
   "source": [
    "### Independent Service Class"
   ]
  },
  {
   "cell_type": "markdown",
   "metadata": {},
   "source": [
    "```\n",
    "@Service\n",
    "public class GreetingService {\n",
    "\n",
    "    @Value(\"${app.greeting}\")\n",
    "    private String greeting;\n",
    "\n",
    "    public GreetingService(){\n",
    "        super();\n",
    "    }\n",
    "\n",
    "    public String getGreeting(String name){\n",
    "        return greeting + \" \" + name;\n",
    "    }\n",
    "}\n",
    "\n",
    "```"
   ]
  },
  {
   "cell_type": "markdown",
   "metadata": {},
   "source": [
    "### Dependent Service Class"
   ]
  },
  {
   "cell_type": "markdown",
   "metadata": {},
   "source": [
    "```\n",
    "@Service\n",
    "public class OutputService {\n",
    "\n",
    "    @Value(\"${app.name}\")\n",
    "    private String name;\n",
    "\n",
    "    private final GreetingService greetingService;\n",
    "    private final TimeService timeService;\n",
    "\n",
    "    @Autowired\n",
    "    public OutputService(GreetingService greetingService, TimeService timeService){\n",
    "        this.greetingService = greetingService;\n",
    "        this.timeService = timeService;\n",
    "    }\n",
    "\n",
    "    public void generateOutput(){\n",
    "        String output = timeService.getCurrentTime() + \" \" + greetingService.getGreeting(name);\n",
    "        System.out.println(output);\n",
    "    }\n",
    "\n",
    "}\n",
    "```"
   ]
  },
  {
   "cell_type": "markdown",
   "metadata": {},
   "source": [
    "### ApplicationConfig class"
   ]
  },
  {
   "cell_type": "markdown",
   "metadata": {},
   "source": [
    "```\n",
    "@Configuration\n",
    "@PropertySource(\"classpath:application.properties\")\n",
    "@ComponentScan(basePackages = \"com.frankmoley.lil.fid\")\n",
    "public class ApplicationConfig {\n",
    "\n",
    "\n",
    "}\n",
    "```"
   ]
  },
  {
   "cell_type": "markdown",
   "metadata": {},
   "source": [
    "### Autowired Overview"
   ]
  },
  {
   "cell_type": "markdown",
   "metadata": {},
   "source": [
    "# Lifecycle Methods"
   ]
  },
  {
   "cell_type": "markdown",
   "metadata": {},
   "source": [
    "- Spring proxies are not always available to add behaviors\n",
    "- There are some methods in those cases\n",
    "- Method during object instantiation :\n",
    "    - You want to perform some task before behaviors are applied in runtime\n",
    "    - `@PostConstruction` annotation is used\n",
    "    - must be a void method with no parameters. eg: `public void init(){}`\n",
    "    - example use case : pull some data in database before anything begins\n",
    "- Method after object destruction has started :\n",
    "    -  You want to perform some task before spring goes out of scope\n",
    "    - `@PreDestroy` annotation is used\n",
    "    - must be a void method with no parameters. eg: `public void destroy(){}`\n",
    "    - called after property settings\n",
    "    - example use case : backup data before application shuts down\n",
    "\n"
   ]
  }
 ],
 "metadata": {
  "language_info": {
   "name": "python"
  }
 },
 "nbformat": 4,
 "nbformat_minor": 2
}
