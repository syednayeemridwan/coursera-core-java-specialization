{
 "cells": [
  {
   "cell_type": "markdown",
   "metadata": {},
   "source": [
    "# Default Configuration"
   ]
  },
  {
   "cell_type": "markdown",
   "metadata": {},
   "source": [
    "- Always download project with `Spring Web` dependency\n",
    "- `@SpringBootApplication` defines\n",
    "    - Auto-configuration of beans\n",
    "    - Configuration class that contains this annotation is scanned dynamically due to `@EnableAutoConfiguration`\n",
    "    - Allows advanced configuration with order of autoconfiguration with `@AutoConfigureBefore` and `@AutoConfigureAfter`\n",
    "    - the class that contains this annotation is the root package for configuration\n",
    "    - Component scanning happens in the root package\n",
    "    - Conditional Loading:\n",
    "        - `@ConditionalOnClass`\n",
    "        - `@ConditionalOnBean`\n",
    "        - `@ConditionalOnProperty`\n",
    "        - `@ConditionalOnMissingClass`\n",
    "        - `@ConditionalOnMissingBean`\n",
    "        - `@ConditionalOnMissingProperty`\n",
    "        - Application type based\n",
    "        - Resource based\n",
    "        - Expression based\n",
    "- `@EnableConfigurationProperties` annotation enables default property (eg: bringing h2 on classpath will load h2 database)\n",
    "    - these can always be overriden (by environment variables, property file, cloud configuration, command-line parameters)\n",
    "- Bean Configuration\n",
    "    - Adding beans to default application class \n",
    "    - Adding beans to separate configuration class \n",
    "    - use XML-based configuration\n",
    "    - Component Scanning"
   ]
  },
  {
   "cell_type": "markdown",
   "metadata": {},
   "source": [
    "# Spring Profiles"
   ]
  },
  {
   "cell_type": "markdown",
   "metadata": {},
   "source": [
    "- Allows configuration based on environment profile\n",
    "- Valuable in multi-environment deployment\n",
    "- Live vs Cold production domains\n",
    "- `spring.profiles` is the key to profile support\n",
    "- Engage profile with `spring.profiles.active`"
   ]
  },
  {
   "cell_type": "markdown",
   "metadata": {},
   "source": [
    "### Example of different profiles: `application.prooperties`"
   ]
  },
  {
   "cell_type": "markdown",
   "metadata": {},
   "source": [
    "```\n",
    "# Define port for dev profile\n",
    "server.port.dev=8080\n",
    "\n",
    "# Define port for prod profile\n",
    "server.port.prod=9090\n",
    "\n",
    "# Set active profile\n",
    "spring.profiles.active=dev\n",
    "\n",
    "```"
   ]
  },
  {
   "cell_type": "markdown",
   "metadata": {},
   "source": [
    "### Example of different profiles: `application.yaml`"
   ]
  },
  {
   "cell_type": "markdown",
   "metadata": {},
   "source": [
    "```\n",
    "# Define ports for each profile\n",
    "spring:\n",
    "  profiles:\n",
    "    active: dev\n",
    "\n",
    "server:\n",
    "  port: 8000\n",
    "\n",
    "---\n",
    "\n",
    "spring:\n",
    "  profiles: prod\n",
    "\n",
    "server:\n",
    "  port: 9000\n",
    "\n",
    "```"
   ]
  },
  {
   "cell_type": "markdown",
   "metadata": {},
   "source": [
    "# Environment Variable Setup"
   ]
  },
  {
   "cell_type": "markdown",
   "metadata": {},
   "source": [
    "<center><img src=\"images/01.01.png\"  style=\"width: 400px, height: 300px;\"/></center>"
   ]
  }
 ],
 "metadata": {
  "language_info": {
   "name": "python"
  }
 },
 "nbformat": 4,
 "nbformat_minor": 2
}
