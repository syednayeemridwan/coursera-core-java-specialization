{
 "cells": [
  {
   "cell_type": "markdown",
   "metadata": {},
   "source": [
    "# MVC (Model View Controller) Architecture"
   ]
  },
  {
   "cell_type": "markdown",
   "metadata": {},
   "source": [
    "- Model is the data (A virtual table that fetches values from real tables)\n",
    "- View is the visual display\n",
    "- Controller wires the view with the model\n",
    "- Workflow:\n",
    "    - Request comes to controller\n",
    "    - Controller communicates with model to see what types of data should be returned \n",
    "    - Controller uses a service to fetch those data/ get those data ready\n",
    "    - Controller then sends the data to the view (it could be raw JSON data or through a templating engine to create a rendered view)"
   ]
  },
  {
   "cell_type": "markdown",
   "metadata": {},
   "source": [
    "<center><img src=\"images/04.01.png\"  style=\"width: 400px, height: 300px;\"/></center>"
   ]
  },
  {
   "cell_type": "markdown",
   "metadata": {},
   "source": [
    "# Spring Controller"
   ]
  },
  {
   "cell_type": "markdown",
   "metadata": {},
   "source": [
    "- It is a  Spring Bean (the `@Controller` which is a type of component)\n",
    "- Annotated by Servlet mapping which works on method level (the url mapping responsibility with `@RequestMapping(\"/path\")`)\n",
    "- Responds to web requests\n",
    "- Outputs a view or raw data"
   ]
  },
  {
   "cell_type": "markdown",
   "metadata": {},
   "source": [
    "```\n",
    "// Controller with embedded HTML (Not Recommended)\n",
    "@Controller\n",
    "@RequestMapping(\"/welcome\")\n",
    "public class WelcomeController {\n",
    "  @GetMapping(produces = MediaType.TEXT_HTML_VALUE)\n",
    "  @ResponseBody\n",
    "  public String getWelcome(@RequestParam(value=\"name\", required = false)String name){\n",
    "    String greeting = \"Hello \";\n",
    "    if (StringUtils.isNotBlank(name)){\n",
    "      greeting = greeting + name;\n",
    "    }else {\n",
    "      greeting = greeting + \"World\";\n",
    "    }\n",
    "    return \"<h1>\" + greeting + \"</h1>\";\n",
    "  }\n",
    "\n",
    "}\n",
    "// Controller with Thymeleaf template\n",
    "@Controller\n",
    "@RequestMapping(\"/rooms\")\n",
    "public class RoomController {\n",
    "  private final RoomRepository roomRepository; // It can also be a service\n",
    "  public RoomController(RoomRepository roomRepository) {\n",
    "    this.roomRepository = roomRepository;\n",
    "  }\n",
    "  @GetMapping\n",
    "  public String getRooms(Model model){ // a temporary model to hold information\n",
    "    model.addAttribute(\"rooms\", this.roomRepository.findAll()); // add information in thymeleaf variable \"rooms\"\n",
    "    return \"room-list\"; // return the model to the thymeleaf template room-list.html\n",
    "  }\n",
    "}\n",
    "```"
   ]
  },
  {
   "cell_type": "markdown",
   "metadata": {},
   "source": [
    "# Spring Template Engine"
   ]
  },
  {
   "cell_type": "markdown",
   "metadata": {},
   "source": [
    "- Thymeleaf : most popular\n",
    "- Provides DSL for HTML\n",
    "- Provides placeholder for dynamic data\n",
    "- Rendering wil create a final product"
   ]
  },
  {
   "cell_type": "markdown",
   "metadata": {},
   "source": [
    "```\n",
    "<!DOCTYPE html>\n",
    "<html xmlns:th=\"http://www.thymeleaf.org\">\n",
    "<head>\n",
    "  <meta charset=\"UTF-8\">\n",
    "  <meta name=\"viewport\" content=\"width=device-width, initial-scale=1\">\n",
    "  <title>Landon Hotel | Occupancy</title>\n",
    "  <link href=\"https://cdn.jsdelivr.net/npm/bootstrap@5.3.1/dist/css/bootstrap.min.css\" rel=\"stylesheet\" integrity=\"sha384-4bw+/aepP/YC94hEpVNVgiZdgIC5+VKNBQNGCHeKRQN+PtmoHDEXuppvnDJzQIu9\" crossorigin=\"anonymous\">\n",
    "</head>\n",
    "<body>\n",
    "<header>\n",
    "  <nav class=\"navbar navbar-expand-md navbar-dark bg-dark\" aria-label=\"Header\">\n",
    "    <div class=\"container-fluid\">\n",
    "      <a class=\"navbar-brand\" href=\"#\">Landon Hotel</a>\n",
    "      <button class=\"navbar-toggler\" type=\"button\" data-bs-toggle=\"collapse\" data-bs-target=\"#site-nav\" aria-controls=\"site-nav\" aria-expanded=\"false\" aria-label=\"Toggle navigation\">\n",
    "        <span class=\"navbar-toggler-icon\"></span>\n",
    "      </button>\n",
    "      <div class=\"collapse navbar-collapse\" id=\"site-nav\">\n",
    "        <ul class=\"navbar-nav me-auto mb-2 mb-md-0\">\n",
    "          <li class=\"nav-item\">\n",
    "            <a class=\"nav-link\" aria-current=\"page\" href=\"#\" th:href=\"@{/rooms}\">Rooms</a>\n",
    "          </li>\n",
    "          <li class=\"nav-item active\">\n",
    "            <a class=\"nav-link\" aria-current=\"page\" href=\"#\" th:href=\"@{/occupancy}\">Occupancy</a>\n",
    "          </li>\n",
    "        </ul>\n",
    "      </div>\n",
    "    </div>\n",
    "  </nav>\n",
    "</header>\n",
    "<main class=\"container\">\n",
    "  <h1>Occupancy</h1>\n",
    "  <div class=\"container\">\n",
    "    <input id=\"picker\" type=\"date\" onchange=\"handleDate()\" th:text=\"${date}\" />\n",
    "  </div>\n",
    "  <table class=\"table\">\n",
    "    <thead>\n",
    "    <th scope=\"col\">Room Number</th>\n",
    "    <th scope=\"col\">Room Name</th>\n",
    "    <th scope=\"col\">Guest</th>\n",
    "    </thead>\n",
    "    <tbody>\n",
    "    <tr th:each=\"reservation : ${reservations}\">\n",
    "      <td th:text=\"${reservation.roomNumber}\">Room Number</td>\n",
    "      <td th:text=\"${reservation.roomName}\">Room Name</td>\n",
    "      <td th:text=\"${reservation.lastName}!=null? ${reservation.lastName} + ', ' + ${reservation.firstName}: 'VACANT'\">Guest</td>\n",
    "    </tr>\n",
    "    </tbody>\n",
    "  </table>\n",
    "\n",
    "</main>\n",
    "<script src=\"https://cdn.jsdelivr.net/npm/bootstrap@5.3.1/dist/js/bootstrap.bundle.min.js\" integrity=\"sha384-HwwvtgBNo3bZJJLYd8oVXjrBZt8cqVSpeBNS5n7C8IVInixGAoxmnlMuBnhbgrkm\" crossorigin=\"anonymous\"></script>\n",
    "<script type=\"text/javascript\">\n",
    "  function handleDate(){\n",
    "    let date = document.getElementById(\"picker\").valueAsDate\n",
    "    let result = date.toISOString().split('T')[0]\n",
    "    if ('URLSearchParams' in window) {\n",
    "      var searchParams = new URLSearchParams(window.location.search);\n",
    "      searchParams.set(\"date\", result);\n",
    "      window.location.search = searchParams.toString();\n",
    "    }\n",
    "  }\n",
    "</script>\n",
    "</body>\n",
    "</html>\n",
    "```"
   ]
  }
 ],
 "metadata": {
  "language_info": {
   "name": "python"
  }
 },
 "nbformat": 4,
 "nbformat_minor": 2
}
