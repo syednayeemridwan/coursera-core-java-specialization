{
 "cells": [
  {
   "cell_type": "markdown",
   "metadata": {},
   "source": [
    "# Spring Data"
   ]
  },
  {
   "cell_type": "markdown",
   "metadata": {},
   "source": [
    "- Provides Common interface to access from different types of databases\n",
    "- Provides common naming convention\n",
    "- Provides aspected behavior for transaction\n",
    "- Provides repository and Data Mapping (ORM) convention\n",
    "- Easy to switch database\n",
    "- `Repository Interface` : Uses repository design pattern. Used for getting data to and from database.\n",
    "- `JdbcTemplate` : Easy way to execute raw jdbc queries, uses Template pattern. Although not ORM, it reduces a lot of code.\n",
    "- Jakarta EE Entity Object : same as JPA\n",
    "- `DataSource`  : represents unique connection pattern to a database\n",
    "- "
   ]
  },
  {
   "cell_type": "markdown",
   "metadata": {},
   "source": [
    "# Common Repository Method Names:"
   ]
  },
  {
   "cell_type": "markdown",
   "metadata": {},
   "source": [
    "- `findAllBy_Field()`\n",
    "- `findBy_Field()`\n",
    "- `findBy_Field1_And_Field2()`"
   ]
  },
  {
   "cell_type": "markdown",
   "metadata": {},
   "source": [
    "# Example Usage"
   ]
  },
  {
   "cell_type": "markdown",
   "metadata": {},
   "source": [
    "### Database Location"
   ]
  },
  {
   "cell_type": "markdown",
   "metadata": {},
   "source": [
    "- for h2 database : put the `.sql` files in `resources` folder\n",
    "- for postgresql: import in your postgresql RDBMS"
   ]
  },
  {
   "cell_type": "markdown",
   "metadata": {},
   "source": [
    "### Inside `pom.xml`"
   ]
  },
  {
   "cell_type": "markdown",
   "metadata": {},
   "source": [
    "```\n",
    "<dependency>\n",
    "    <groupId>org.springframework.boot</groupId>\n",
    "    <artifactId>spring-boot-starter-web</artifactId>\n",
    "</dependency>\n",
    "<!-- Spring Boot Starter Data JPA -->\n",
    "<dependency>\n",
    "    <groupId>org.springframework.boot</groupId>\n",
    "    <artifactId>spring-boot-starter-data-jpa</artifactId>\n",
    "</dependency>\n",
    "\n",
    "<!-- H2 Database -->\n",
    "<dependency>\n",
    "    <groupId>com.h2database</groupId>\n",
    "    <artifactId>h2</artifactId>\n",
    "</dependency>\n",
    "\n",
    "<!-- Lombok -->\n",
    "<dependency>\n",
    "    <groupId>org.projectlombok</groupId>\n",
    "    <artifactId>lombok</artifactId>\n",
    "</dependency>\n",
    "\n",
    "<!-- PostgreSQL Driver -->\n",
    "<dependency>\n",
    "    <groupId>org.postgresql</groupId>\n",
    "    <artifactId>postgresql</artifactId>\n",
    "</dependency>\n",
    "\n",
    "```"
   ]
  },
  {
   "cell_type": "markdown",
   "metadata": {},
   "source": [
    "### Inside `Application.properties`"
   ]
  },
  {
   "cell_type": "markdown",
   "metadata": {},
   "source": [
    "```\n",
    "spring.jpa.hibernate.ddl-auto=none\n",
    "spring.jpa.database=postgresql\n",
    "spring.datasource.url=jdbc:postgresql://localhost:5432/local?currentSchema=LIL\n",
    "spring.datasource.username=postgres\n",
    "spring.datasource.password=postgres\n",
    "```"
   ]
  },
  {
   "cell_type": "markdown",
   "metadata": {},
   "source": [
    "### Refresh Maven"
   ]
  },
  {
   "cell_type": "markdown",
   "metadata": {},
   "source": [
    "- update from IDE\n",
    "- Alternative: `mvn clean install`"
   ]
  },
  {
   "cell_type": "markdown",
   "metadata": {},
   "source": [
    "### Create Entity"
   ]
  },
  {
   "cell_type": "markdown",
   "metadata": {},
   "source": [
    "- A substitute java class for each table in the database\n",
    "- Resides withing `data.entity` package on the root of application runner\n"
   ]
  },
  {
   "cell_type": "markdown",
   "metadata": {},
   "source": [
    "### Original Table"
   ]
  },
  {
   "cell_type": "markdown",
   "metadata": {},
   "source": [
    "```\n",
    "CREATE TABLE LIL.ROOMS(\n",
    "  ROOM_ID BIGSERIAL PRIMARY KEY,\n",
    "  ROOM_NUMBER CHAR(2) NOT NULL UNIQUE\n",
    ");\n",
    "```"
   ]
  },
  {
   "cell_type": "markdown",
   "metadata": {},
   "source": [
    "### Entity Class Representation of table"
   ]
  },
  {
   "cell_type": "markdown",
   "metadata": {},
   "source": [
    "- Inside root package : new package `data.entity`"
   ]
  },
  {
   "cell_type": "markdown",
   "metadata": {},
   "source": [
    "```\n",
    "@Entity\n",
    "@Table(name=\"rooms\")\n",
    "@Data\n",
    "@ToString\n",
    "public class Room {\n",
    "  @Id\n",
    "  @Column(name=\"room_id\")\n",
    "  @GeneratedValue(strategy = GenerationType.AUTO)\n",
    "  private long id;\n",
    "\n",
    "  @Column(name=\"room_number\")\n",
    "  private String roomNumber;\n",
    "}\n",
    "```"
   ]
  },
  {
   "cell_type": "markdown",
   "metadata": {},
   "source": [
    "### Interface for pulling data from table"
   ]
  },
  {
   "cell_type": "markdown",
   "metadata": {},
   "source": [
    "- Inside root package : new package `data.repository`"
   ]
  },
  {
   "cell_type": "markdown",
   "metadata": {},
   "source": [
    "```\n",
    "public interface RoomRepository extends JpaRepository<Room, Long> {\n",
    "  List<Room> findAllByRoomNumberIgnoreCase(String roomNumber);\n",
    "  // findAllBy_Field()\n",
    "  // findBy_Field()\n",
    "  // findBy_Field1_And_Field2()\n",
    "}\n",
    "```"
   ]
  },
  {
   "cell_type": "markdown",
   "metadata": {},
   "source": [
    "### Testing the pull in command line"
   ]
  },
  {
   "cell_type": "markdown",
   "metadata": {},
   "source": [
    "- Inside same directory as Application runner `main` class"
   ]
  },
  {
   "cell_type": "markdown",
   "metadata": {},
   "source": [
    "```\n",
    "@Component\n",
    "public class CLRunner implements CommandLineRunner {\n",
    "\n",
    "  private final RoomRepository roomRepository;\n",
    "\n",
    "  public CLRunner(RoomRepository roomRepository) {\n",
    "    this.roomRepository = roomRepository;\n",
    "  }\n",
    "\n",
    "  @Override\n",
    "  public void run(String... args) throws Exception {\n",
    "    Optional<Room> room = this.roomRepository.findByRoomNumberIgnoreCase(\"p1\");\n",
    "    System.out.println(room);\n",
    "    List<Room> rooms = this.roomRepository.findAll();\n",
    "    rooms.forEach(System.out::println);\n",
    "  }\n",
    "}\n",
    "```"
   ]
  }
 ],
 "metadata": {
  "language_info": {
   "name": "python"
  }
 },
 "nbformat": 4,
 "nbformat_minor": 2
}
