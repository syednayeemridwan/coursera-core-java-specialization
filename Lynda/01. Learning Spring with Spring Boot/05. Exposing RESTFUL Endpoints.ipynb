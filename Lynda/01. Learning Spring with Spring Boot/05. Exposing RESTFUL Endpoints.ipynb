{
 "cells": [
  {
   "cell_type": "markdown",
   "metadata": {},
   "source": [
    "# REST Controller"
   ]
  },
  {
   "cell_type": "markdown",
   "metadata": {},
   "source": [
    "- Spring Controller that provides RESTful Web services\n",
    "- View in this case is JSON\n",
    "- Controller exposes endpoints as APIs for resource manipulation"
   ]
  },
  {
   "cell_type": "markdown",
   "metadata": {},
   "source": [
    "```\n",
    "\n",
    "@RestController\n",
    "@RequestMapping(\"/api/reservations\")\n",
    "public class ReservationApiController {\n",
    "  private final ReservationRepository reservationRepository; // Could be a service as well\n",
    "  public ReservationApiController(ReservationRepository reservationRepository) {\n",
    "    this.reservationRepository = reservationRepository;\n",
    "  }\n",
    "\n",
    "  @GetMapping\n",
    "  public List<Reservation> getAllReservations(@RequestParam(value=\"date\", required = false)String dateString){\n",
    "    if(StringUtils.isNotBlank(dateString)){\n",
    "      Date date = new Date(new java.util.Date().getTime());\n",
    "      return this.reservationRepository.findAllByReservationDate(date);\n",
    "    }\n",
    "    return this.reservationRepository.findAll();\n",
    "  }\n",
    "\n",
    "  @PostMapping\n",
    "  @ResponseStatus(HttpStatus.CREATED)\n",
    "  public Reservation addReservation(@RequestBody Reservation reservation){\n",
    "    return this.reservationRepository.save(reservation);\n",
    "  }\n",
    "\n",
    "  @GetMapping(\"/{id}\")\n",
    "  public Reservation getReservation(@PathVariable(\"id\")long id){\n",
    "    Optional<Reservation> reservation = this.reservationRepository.findById(id);\n",
    "    if (reservation.isEmpty()){\n",
    "      throw new NotFoundException(\"reservation not found with id: \" + id);\n",
    "    }\n",
    "    return reservation.get();\n",
    "  }\n",
    "\n",
    "  @PutMapping(\"/{id}\")\n",
    "  public Reservation updateReservation(@PathVariable(\"id\")long id, @RequestBody Reservation reservation){\n",
    "    if (id != reservation.getId()){\n",
    "      throw new BadRequestException(\"id on path must match body\");\n",
    "    }\n",
    "    return reservationRepository.save(reservation);\n",
    "  }\n",
    "\n",
    "  @DeleteMapping(\"/{id}\")\n",
    "  @ResponseStatus(HttpStatus.RESET_CONTENT)\n",
    "  public void deleteReservation(@PathVariable(\"id\")long id){\n",
    "    this.reservationRepository.deleteById(id);\n",
    "  }\n",
    "\n",
    "}\n",
    "// NOTE : handle REST EXCEPTIONS\n",
    "```"
   ]
  },
  {
   "cell_type": "markdown",
   "metadata": {},
   "source": [
    "# REST Controller Exceptions"
   ]
  },
  {
   "cell_type": "markdown",
   "metadata": {},
   "source": [
    "- Handle exceptions when controller fails to serve the purpose"
   ]
  },
  {
   "cell_type": "markdown",
   "metadata": {},
   "source": [
    "```\n",
    "// REST Exceptions\n",
    "@ResponseStatus(HttpStatus.NOT_FOUND)\n",
    "public class NotFoundException extends RuntimeException{\n",
    "// override NotFoundException(),  NotFoundException(String message), \n",
    "// NotFoundException(String message, Throwable cause), NotFoundException(Throwable cause)\n",
    "}\n",
    "\n",
    "@ResponseStatus(HttpStatus.BAD_REQUEST)\n",
    "public class BadRequestException extends RuntimeException{\n",
    "// override BadRequestException(),  BadRequestException(String message),\n",
    "// BadRequestException(String message, Throwable cause), public BadRequestException(Throwable cause)\n",
    "}\n",
    "```"
   ]
  }
 ],
 "metadata": {
  "language_info": {
   "name": "python"
  }
 },
 "nbformat": 4,
 "nbformat_minor": 2
}
