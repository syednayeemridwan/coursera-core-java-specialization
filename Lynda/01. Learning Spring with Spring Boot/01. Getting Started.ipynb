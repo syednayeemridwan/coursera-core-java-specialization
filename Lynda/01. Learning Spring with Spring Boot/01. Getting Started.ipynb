{
 "cells": [
  {
   "cell_type": "markdown",
   "metadata": {},
   "source": [
    "# Key Definitions"
   ]
  },
  {
   "cell_type": "markdown",
   "metadata": {},
   "source": [
    "- Annotations = Metadata of the code. \n",
    "- POJO = java object with attributes and methods\n",
    "- Java Beans = Java objects with only getters and setters for attributes\n",
    "- Spring Beans = POJOs configured in the application context \n",
    "- DTO (Data Transfer Objects) = java beans used to move state between logical layers\n",
    "- Bean Factory = The IoC container. Serves the beans during the runtime of application. \n",
    "- Application Context : Anything that spring manages during the Lifecycle of application. It wraps the BeanFactory. Spring Boot provides auto-configuration of Application Context.\n",
    "- IOC = provides a mechanism for dependency injection. With this, the framework controls the lifecycle of all dependencies.\n",
    "- Under the Hood : Developers only talk to application context, not the BeanFactory directly. \n",
    "- Configuration:\n",
    "    - XML configuration : old way\n",
    "    - Java configuration : Beans destined for bean factory can be defined with pure java functions that are annotated with `@Bean` in `@SpringBoot` annotated class\n",
    "    - Component Scanning (Most Popular) : Use simple annotations to define beans.\n",
    "    - Auto-Configuration : Default bean creation based on defined rules in BeanFactory. Annotating a config class with `@EnableAutoConfiguration` or bootstrapping an application with `@SpringBootApplication` turns on auto-configuration once that class is component-scanned. It can be customized through exclusion or override of properties.\n",
    "- Proxies:\n",
    "    - Add behaviors to configured Beans through proxy pattern\n",
    "    - Beans in BeanFactory are proxied\n",
    "    - Annotations drive proxies\n",
    "    - NOTE : Avoid class level internal method call to keep the proxy behavior going (eg: if `getX()` holds call `getY()` of the same class in it, it will not work)"
   ]
  },
  {
   "cell_type": "markdown",
   "metadata": {},
   "source": [
    "# Spring Project"
   ]
  },
  {
   "cell_type": "markdown",
   "metadata": {},
   "source": [
    "<center><img src=\"images/01.01.png\"  style=\"width: 400px, height: 300px;\"/></center>"
   ]
  }
 ],
 "metadata": {
  "language_info": {
   "name": "python"
  }
 },
 "nbformat": 4,
 "nbformat_minor": 2
}
