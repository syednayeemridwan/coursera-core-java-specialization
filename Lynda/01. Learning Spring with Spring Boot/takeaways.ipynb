{
 "cells": [
  {
   "cell_type": "markdown",
   "metadata": {},
   "source": [
    "# Workflow"
   ]
  },
  {
   "cell_type": "markdown",
   "metadata": {},
   "source": [
    "- Entities = Database table representation\n",
    "- Repositories = For pulling data using entities\n",
    "- Models = Virtual database for custom logic using Entities\n",
    "- Services = Pulling data for Models (using repositories)\n",
    "- Controllers = passing entity/model data in views\n",
    "- Api controllers = RESTful controllers (Controllers that provide REST services) for repositories and services\n",
    "- Command Line Runner = Logger file to view outputs in command line console (for repositories, services)\n",
    "- Templates = Thymeleaf html View documents\n",
    "- pom.xml = dependency management file\n",
    "- Application.properties = property settings for application connectivity"
   ]
  },
  {
   "cell_type": "markdown",
   "metadata": {},
   "source": [
    "# Spring Directory Setup"
   ]
  },
  {
   "cell_type": "markdown",
   "metadata": {},
   "source": [
    "<center><img src=\"images/05.01.png\"  style=\"width: 400px, height: 300px;\"/></center>"
   ]
  }
 ],
 "metadata": {
  "language_info": {
   "name": "python"
  }
 },
 "nbformat": 4,
 "nbformat_minor": 2
}
