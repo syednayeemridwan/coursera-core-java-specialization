{
 "cells": [
  {
   "cell_type": "markdown",
   "metadata": {},
   "source": [
    "# Unit Testing"
   ]
  },
  {
   "cell_type": "markdown",
   "metadata": {},
   "source": [
    "- Spring has the ability to inject framework mocks\n",
    "- Use a simple strategy with JUnit\n",
    "- Controller testing\n",
    "    - Servlet API mocks (for testing requestmappings)\n",
    "    - ModelAndViewAssert (for if Model is fully populated)\n",
    "    - MockMVC (For RESTful services)\n",
    "- Integration Testing support areas\n",
    "    - JDBC\n",
    "    - Annotations\n",
    "    - TestContext\n",
    "    - MockMVC"
   ]
  },
  {
   "cell_type": "markdown",
   "metadata": {},
   "source": [
    "# Spring Security"
   ]
  },
  {
   "cell_type": "markdown",
   "metadata": {},
   "source": [
    "- Filter based authentication and authorization\n",
    "- Exploit prevention : CSRF and others\n",
    "- Robust library support : OAuth, Username and password\n",
    "- "
   ]
  },
  {
   "cell_type": "markdown",
   "metadata": {},
   "source": [
    "# Other Projects"
   ]
  },
  {
   "cell_type": "markdown",
   "metadata": {},
   "source": [
    "- SpEL : Spring expression Language\n",
    "- AOP : Aspect Oriented Programming\n",
    "- Transactions : You do not want auto-commit\n",
    "- i18n : Messaging changes, translations\n",
    "- WebSockets : Messaging applications\n",
    "- Reactive Web\n",
    "- JMS / kafka / AMQP: Asynchronous systems, distributed systems for producers and consumers\n",
    "- Tasks : Routine operations\n",
    "- Caching : Caching in memory\n",
    "- Actuator : Real-time tools or monitoring\n",
    "- Logging : See logs\n",
    "- Dev Tools \n",
    "- Batch : batch processing\n",
    "- Spring Cloud : Cloud support\n",
    "- GraphQL : Reactive way instead of REST\n",
    "- Session : Session data\n",
    "- Integration : Common integration of patterns"
   ]
  }
 ],
 "metadata": {
  "language_info": {
   "name": "python"
  }
 },
 "nbformat": 4,
 "nbformat_minor": 2
}
