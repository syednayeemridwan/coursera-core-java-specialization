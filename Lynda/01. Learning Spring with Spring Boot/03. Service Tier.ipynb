{
 "cells": [
  {
   "cell_type": "markdown",
   "metadata": {},
   "source": [
    "# Inversion of Control"
   ]
  },
  {
   "cell_type": "markdown",
   "metadata": {},
   "source": [
    "- Main theme : Objects don't create dependent objects in their methods or constructors. Instead, the container manages them and injects them as needed\n",
    "- Spring maintains the lifecycle of classes (or Beans) and handles injection\n",
    "- Construction and management of object is no longer developer's responsibility\n",
    "- Objects are injected as dependencies in other classes during runtime or start-up time\n",
    "- Allows developer to focus on business logic based on contracts (interface)\n",
    "- Developers often need to build only abstraction and not the whole implementation details\n",
    "- Spring serves singleton objects from the bean factory by default\n",
    "- Bean Factory : IoC Container.\n",
    "- Application Context : wraps around Bean Factory. Developers interact with it to indirectly work with Bean Factory\n",
    "- References : Bean Factory maintains references to the Spring Beans that either developer or Spring itself configures\n",
    "- Analysis of Construction Order : after initialization of beans, an order of operation is created based on the dependencies and the beans are then instantiated according to proper order by the Bean Factory\n",
    "- Recommended injections\n",
    "    - Constructor injection\n",
    "    - Setter injection\n",
    "    - NOT FIELD injection\n",
    "- IOC Workflow\n",
    "    - Application starts\n",
    "    - IOC Container scans for classes\n",
    "    - Constructs objects according to order in the bean factory\n",
    "    - Injects the dependencies according to the order\n",
    "    - NOTE : It will fail if there is circular dependency"
   ]
  },
  {
   "cell_type": "markdown",
   "metadata": {},
   "source": [
    "# Service Abstraction"
   ]
  },
  {
   "cell_type": "markdown",
   "metadata": {},
   "source": [
    "- Encapsulation Layer : to hide lower level code\n",
    "- Consuming third-party APIs and protect the code\n",
    "- Simplify implementation and reduces complexity (Imrpoves understandablity of the code)\n",
    "- Isolate implementation, Swappable code (no code change necessary)\n",
    "- Workflow of building Service Abstraction:\n",
    "    - Define class or interface\n",
    "    - Create API\n",
    "    - Inject dependency\n",
    "    - Annotate or Configure\n",
    "    - Code the implementation (Code and test together)"
   ]
  },
  {
   "cell_type": "markdown",
   "metadata": {},
   "source": [
    "# Creating Service"
   ]
  },
  {
   "cell_type": "markdown",
   "metadata": {},
   "source": [
    "### `Model`"
   ]
  },
  {
   "cell_type": "markdown",
   "metadata": {},
   "source": [
    "- In the base package > a new package `Service` > A new package `Model` \n",
    "- Should contain the fields from the entities"
   ]
  },
  {
   "cell_type": "markdown",
   "metadata": {},
   "source": [
    "```\n",
    "@Getter\n",
    "@Setter\n",
    "@ToString\n",
    "public class RoomReservation {\n",
    "    private Long reservationId;\n",
    "    private String roomNumber;\n",
    "    private String guestName;\n",
    "    private Date reservationDate;\n",
    "}\n",
    "```"
   ]
  },
  {
   "cell_type": "markdown",
   "metadata": {},
   "source": [
    "### Interface of the Service : `RoomReservationService`"
   ]
  },
  {
   "cell_type": "markdown",
   "metadata": {},
   "source": [
    "```\n",
    "import java.util.List;\n",
    "\n",
    "public interface RoomReservationService {\n",
    "    List<RoomReservation> getReservationsByDate(Date reservationDate);\n",
    "}\n",
    "\n",
    "```"
   ]
  },
  {
   "cell_type": "markdown",
   "metadata": {},
   "source": [
    "### Implementation Class : `RoomReservationServiceImpl`"
   ]
  },
  {
   "cell_type": "markdown",
   "metadata": {},
   "source": [
    "```\n",
    "\n",
    "@Service\n",
    "public class RoomReservationServiceImpl implements RoomReservationService {\n",
    "\n",
    "    @Autowired\n",
    "    private ReservationRepository reservationRepository;\n",
    "\n",
    "    @Override\n",
    "    public List<RoomReservation> getReservationsByDate(Date reservationDate) {\n",
    "    List<RoomReservation> roomReservations = new ArrayList<>();\n",
    "    List<Reservation> reservations = reservationRepository.findAllByReservationDate(reservationDate);\n",
    "    \n",
    "    for (Reservation reservation : reservations) {\n",
    "        Long roomId = reservation.getRoomId();\n",
    "        Long guestId = reservation.getGuestId();\n",
    "        \n",
    "        // Fetch Room object using roomId\n",
    "        Room room = roomRepository.findById(roomId).orElse(null);\n",
    "        \n",
    "        // Fetch Guest object using guestId\n",
    "        Guest guest = guestRepository.findById(guestId).orElse(null);\n",
    "        \n",
    "        if (room != null && guest != null) {\n",
    "            RoomReservation roomReservation = new RoomReservation();\n",
    "            roomReservation.setReservationId(reservation.getReservationId());\n",
    "            roomReservation.setRoomNumber(room.getRoomNumber());\n",
    "            roomReservation.setGuestName(guest.getGuestName());\n",
    "            roomReservation.setReservationDate(reservation.getReservationDate());\n",
    "            \n",
    "            roomReservations.add(roomReservation);\n",
    "        }\n",
    "    }\n",
    "    \n",
    "    return roomReservations;\n",
    "}\n",
    "}\n",
    "```"
   ]
  },
  {
   "cell_type": "markdown",
   "metadata": {},
   "source": [
    "### Test with command line"
   ]
  },
  {
   "cell_type": "markdown",
   "metadata": {},
   "source": [
    "```\n",
    "\n",
    "@Component\n",
    "public class CLRunner implements CommandLineRunner {\n",
    "\n",
    "    @Autowired\n",
    "    private final RoomReservationService roomReservationService; // the interface\n",
    "\n",
    "    @Override\n",
    "    public void run(String... args) throws Exception {\n",
    "        // Specify the desired reservation date\n",
    "        SimpleDateFormat dateFormat = new SimpleDateFormat(\"yyyy-MM-dd\");\n",
    "        Date reservationDate = dateFormat.parse(\"2022-02-14\");\n",
    "        // test with the specified date.... You are using the custom model \n",
    "        List<RoomReservation> roomReservations = roomReservationService.getReservationsByDate(reservationDate);\n",
    "\n",
    "        // Display the room reservations in the console with getters\n",
    "        for (RoomReservation roomReservation : roomReservations) {\n",
    "            System.out.println(\"Reservation Date: \" + dateFormat.format(roomReservation.getReservationDate()));\n",
    "            // other getters\n",
    "        }\n",
    "    }\n",
    "}\n",
    "\n",
    "```"
   ]
  }
 ],
 "metadata": {
  "language_info": {
   "name": "python"
  }
 },
 "nbformat": 4,
 "nbformat_minor": 2
}
